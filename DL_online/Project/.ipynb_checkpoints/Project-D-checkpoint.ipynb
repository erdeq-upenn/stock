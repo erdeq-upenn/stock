{
 "cells": [
  {
   "cell_type": "markdown",
   "metadata": {
    "colab_type": "text",
    "id": "Le1H6Hf0NVsW"
   },
   "source": [
    "# Part 1\n"
   ]
  },
  {
   "cell_type": "code",
   "execution_count": 28,
   "metadata": {
    "colab": {
     "base_uri": "https://localhost:8080/",
     "height": 35
    },
    "colab_type": "code",
    "executionInfo": {
     "elapsed": 344,
     "status": "ok",
     "timestamp": 1590701166973,
     "user": {
      "displayName": "Alex Er",
      "photoUrl": "",
      "userId": "04455077611159472702"
     },
     "user_tz": 240
    },
    "id": "LgN-xrbyI2CH",
    "outputId": "b72f4335-0d8a-4508-a162-1a4c2efdd134"
   },
   "outputs": [
    {
     "name": "stdout",
     "output_type": "stream",
     "text": [
      "2.2.0\n"
     ]
    }
   ],
   "source": [
    "import tensorflow as tf\n",
    "import numpy as np\n",
    "import matplotlib.pyplot as plt\n",
    "import pandas as pd\n",
    "print(tf.__version__)\n"
   ]
  },
  {
   "cell_type": "code",
   "execution_count": 0,
   "metadata": {
    "colab": {},
    "colab_type": "code",
    "id": "MRzvwTvtLSv3"
   },
   "outputs": [],
   "source": [
    "def plot_series(time, series, format=\"-\", start=0, end=None):\n",
    "    plt.plot(time[start:end], series[start:end], format)\n",
    "    plt.xlabel(\"Time\")\n",
    "    plt.ylabel(\"Value\")\n",
    "    plt.grid(False)\n",
    "\n",
    "def trend(time, slope=0):\n",
    "    return slope * time\n",
    "\n",
    "def seasonal_pattern(season_time):\n",
    "    \"\"\"Just an arbitrary pattern, you can change it if you wish\"\"\"\n",
    "    return np.where(season_time < 0.1,\n",
    "                    np.cos(season_time * 6 * np.pi),\n",
    "                    2 / np.exp(9 * season_time))\n",
    "\n",
    "def seasonality(time, period, amplitude=1, phase=0):\n",
    "    \"\"\"Repeats the same pattern at each period\"\"\"\n",
    "    season_time = ((time + phase) % period) / period\n",
    "    return amplitude * seasonal_pattern(season_time)\n",
    "\n",
    "def noise(time, noise_level=1, seed=None):\n",
    "    rnd = np.random.RandomState(seed)\n",
    "    return rnd.randn(len(time)) * noise_level\n"
   ]
  },
  {
   "cell_type": "code",
   "execution_count": 38,
   "metadata": {
    "colab": {
     "base_uri": "https://localhost:8080/",
     "height": 445
    },
    "colab_type": "code",
    "executionInfo": {
     "elapsed": 492,
     "status": "ok",
     "timestamp": 1590701303622,
     "user": {
      "displayName": "Alex Er",
      "photoUrl": "",
      "userId": "04455077611159472702"
     },
     "user_tz": 240
    },
    "id": "Tn6lUPrjKrCh",
    "outputId": "6bb2af5d-1574-47f0-dcab-e846b9640019"
   },
   "outputs": [
    {
     "data": {
      "text/html": [
       "<div>\n",
       "<style scoped>\n",
       "    .dataframe tbody tr th:only-of-type {\n",
       "        vertical-align: middle;\n",
       "    }\n",
       "\n",
       "    .dataframe tbody tr th {\n",
       "        vertical-align: top;\n",
       "    }\n",
       "\n",
       "    .dataframe thead th {\n",
       "        text-align: right;\n",
       "    }\n",
       "</style>\n",
       "<table border=\"1\" class=\"dataframe\">\n",
       "  <thead>\n",
       "    <tr style=\"text-align: right;\">\n",
       "      <th></th>\n",
       "      <th>Unnamed: 0</th>\n",
       "      <th>secID</th>\n",
       "      <th>ticker</th>\n",
       "      <th>secShortName</th>\n",
       "      <th>exchangeCD</th>\n",
       "      <th>tradeDate</th>\n",
       "      <th>preClosePrice</th>\n",
       "      <th>actPreClosePrice</th>\n",
       "      <th>openPrice</th>\n",
       "      <th>highestPrice</th>\n",
       "      <th>lowestPrice</th>\n",
       "      <th>closePrice</th>\n",
       "      <th>turnoverVol</th>\n",
       "      <th>turnoverValue</th>\n",
       "      <th>dealAmount</th>\n",
       "      <th>turnoverRate</th>\n",
       "      <th>accumAdjFactor</th>\n",
       "      <th>negMarketValue</th>\n",
       "      <th>marketValue</th>\n",
       "      <th>chgPct</th>\n",
       "      <th>PE</th>\n",
       "      <th>PE1</th>\n",
       "      <th>PB</th>\n",
       "      <th>isOpen</th>\n",
       "      <th>vwap</th>\n",
       "    </tr>\n",
       "  </thead>\n",
       "  <tbody>\n",
       "    <tr>\n",
       "      <th>0</th>\n",
       "      <td>0</td>\n",
       "      <td>600519.XSHG</td>\n",
       "      <td>600519</td>\n",
       "      <td>贵州茅台</td>\n",
       "      <td>XSHG</td>\n",
       "      <td>2015-01-05</td>\n",
       "      <td>189.62</td>\n",
       "      <td>189.62</td>\n",
       "      <td>189.62</td>\n",
       "      <td>204.24</td>\n",
       "      <td>188.69</td>\n",
       "      <td>202.52</td>\n",
       "      <td>9451517</td>\n",
       "      <td>1875063136</td>\n",
       "      <td>27209</td>\n",
       "      <td>0.0083</td>\n",
       "      <td>0.83693</td>\n",
       "      <td>231277434960</td>\n",
       "      <td>231277434960</td>\n",
       "      <td>0.0680</td>\n",
       "      <td>15.0671</td>\n",
       "      <td>15.0671</td>\n",
       "      <td>4.3286</td>\n",
       "      <td>1</td>\n",
       "      <td>198.388</td>\n",
       "    </tr>\n",
       "    <tr>\n",
       "      <th>1</th>\n",
       "      <td>1</td>\n",
       "      <td>600519.XSHG</td>\n",
       "      <td>600519</td>\n",
       "      <td>贵州茅台</td>\n",
       "      <td>XSHG</td>\n",
       "      <td>2015-01-06</td>\n",
       "      <td>202.52</td>\n",
       "      <td>202.52</td>\n",
       "      <td>200.00</td>\n",
       "      <td>202.56</td>\n",
       "      <td>196.02</td>\n",
       "      <td>197.83</td>\n",
       "      <td>5502001</td>\n",
       "      <td>1094977375</td>\n",
       "      <td>16677</td>\n",
       "      <td>0.0048</td>\n",
       "      <td>0.83693</td>\n",
       "      <td>225921464340</td>\n",
       "      <td>225921464340</td>\n",
       "      <td>-0.0232</td>\n",
       "      <td>14.7182</td>\n",
       "      <td>14.7182</td>\n",
       "      <td>4.2283</td>\n",
       "      <td>1</td>\n",
       "      <td>199.014</td>\n",
       "    </tr>\n",
       "    <tr>\n",
       "      <th>2</th>\n",
       "      <td>2</td>\n",
       "      <td>600519.XSHG</td>\n",
       "      <td>600519</td>\n",
       "      <td>贵州茅台</td>\n",
       "      <td>XSHG</td>\n",
       "      <td>2015-01-07</td>\n",
       "      <td>197.83</td>\n",
       "      <td>197.83</td>\n",
       "      <td>196.04</td>\n",
       "      <td>199.50</td>\n",
       "      <td>189.99</td>\n",
       "      <td>192.94</td>\n",
       "      <td>5479784</td>\n",
       "      <td>1063925641</td>\n",
       "      <td>17690</td>\n",
       "      <td>0.0048</td>\n",
       "      <td>0.83693</td>\n",
       "      <td>220337094120</td>\n",
       "      <td>220337094120</td>\n",
       "      <td>-0.0247</td>\n",
       "      <td>14.3544</td>\n",
       "      <td>14.3544</td>\n",
       "      <td>4.1238</td>\n",
       "      <td>1</td>\n",
       "      <td>194.155</td>\n",
       "    </tr>\n",
       "    <tr>\n",
       "      <th>3</th>\n",
       "      <td>3</td>\n",
       "      <td>600519.XSHG</td>\n",
       "      <td>600519</td>\n",
       "      <td>贵州茅台</td>\n",
       "      <td>XSHG</td>\n",
       "      <td>2015-01-08</td>\n",
       "      <td>192.94</td>\n",
       "      <td>192.94</td>\n",
       "      <td>194.00</td>\n",
       "      <td>194.52</td>\n",
       "      <td>190.14</td>\n",
       "      <td>191.76</td>\n",
       "      <td>4052530</td>\n",
       "      <td>777874670</td>\n",
       "      <td>14646</td>\n",
       "      <td>0.0035</td>\n",
       "      <td>0.83693</td>\n",
       "      <td>218989536480</td>\n",
       "      <td>218989536480</td>\n",
       "      <td>-0.0061</td>\n",
       "      <td>14.2666</td>\n",
       "      <td>14.2666</td>\n",
       "      <td>4.0986</td>\n",
       "      <td>1</td>\n",
       "      <td>191.948</td>\n",
       "    </tr>\n",
       "    <tr>\n",
       "      <th>4</th>\n",
       "      <td>4</td>\n",
       "      <td>600519.XSHG</td>\n",
       "      <td>600519</td>\n",
       "      <td>贵州茅台</td>\n",
       "      <td>XSHG</td>\n",
       "      <td>2015-01-09</td>\n",
       "      <td>191.76</td>\n",
       "      <td>191.76</td>\n",
       "      <td>190.40</td>\n",
       "      <td>195.77</td>\n",
       "      <td>190.11</td>\n",
       "      <td>190.31</td>\n",
       "      <td>5398220</td>\n",
       "      <td>1039955153</td>\n",
       "      <td>17621</td>\n",
       "      <td>0.0047</td>\n",
       "      <td>0.83693</td>\n",
       "      <td>217333639380</td>\n",
       "      <td>217333639380</td>\n",
       "      <td>-0.0076</td>\n",
       "      <td>14.1587</td>\n",
       "      <td>14.1587</td>\n",
       "      <td>4.0676</td>\n",
       "      <td>1</td>\n",
       "      <td>192.648</td>\n",
       "    </tr>\n",
       "    <tr>\n",
       "      <th>...</th>\n",
       "      <td>...</td>\n",
       "      <td>...</td>\n",
       "      <td>...</td>\n",
       "      <td>...</td>\n",
       "      <td>...</td>\n",
       "      <td>...</td>\n",
       "      <td>...</td>\n",
       "      <td>...</td>\n",
       "      <td>...</td>\n",
       "      <td>...</td>\n",
       "      <td>...</td>\n",
       "      <td>...</td>\n",
       "      <td>...</td>\n",
       "      <td>...</td>\n",
       "      <td>...</td>\n",
       "      <td>...</td>\n",
       "      <td>...</td>\n",
       "      <td>...</td>\n",
       "      <td>...</td>\n",
       "      <td>...</td>\n",
       "      <td>...</td>\n",
       "      <td>...</td>\n",
       "      <td>...</td>\n",
       "      <td>...</td>\n",
       "      <td>...</td>\n",
       "    </tr>\n",
       "    <tr>\n",
       "      <th>1214</th>\n",
       "      <td>1214</td>\n",
       "      <td>600519.XSHG</td>\n",
       "      <td>600519</td>\n",
       "      <td>贵州茅台</td>\n",
       "      <td>XSHG</td>\n",
       "      <td>2019-12-25</td>\n",
       "      <td>1148.00</td>\n",
       "      <td>1148.00</td>\n",
       "      <td>1143.00</td>\n",
       "      <td>1143.00</td>\n",
       "      <td>1130.01</td>\n",
       "      <td>1133.70</td>\n",
       "      <td>2430597</td>\n",
       "      <td>2755735164</td>\n",
       "      <td>14387</td>\n",
       "      <td>0.0019</td>\n",
       "      <td>1.00000</td>\n",
       "      <td>1424151445860</td>\n",
       "      <td>1424151445860</td>\n",
       "      <td>-0.0125</td>\n",
       "      <td>34.7991</td>\n",
       "      <td>35.0720</td>\n",
       "      <td>11.3697</td>\n",
       "      <td>1</td>\n",
       "      <td>1133.769</td>\n",
       "    </tr>\n",
       "    <tr>\n",
       "      <th>1215</th>\n",
       "      <td>1215</td>\n",
       "      <td>600519.XSHG</td>\n",
       "      <td>600519</td>\n",
       "      <td>贵州茅台</td>\n",
       "      <td>XSHG</td>\n",
       "      <td>2019-12-26</td>\n",
       "      <td>1133.70</td>\n",
       "      <td>1133.70</td>\n",
       "      <td>1132.00</td>\n",
       "      <td>1141.98</td>\n",
       "      <td>1119.99</td>\n",
       "      <td>1135.10</td>\n",
       "      <td>2287727</td>\n",
       "      <td>2585996501</td>\n",
       "      <td>13365</td>\n",
       "      <td>0.0018</td>\n",
       "      <td>1.00000</td>\n",
       "      <td>1425910122780</td>\n",
       "      <td>1425910122780</td>\n",
       "      <td>0.0012</td>\n",
       "      <td>34.8421</td>\n",
       "      <td>35.1153</td>\n",
       "      <td>11.3838</td>\n",
       "      <td>1</td>\n",
       "      <td>1130.378</td>\n",
       "    </tr>\n",
       "    <tr>\n",
       "      <th>1216</th>\n",
       "      <td>1216</td>\n",
       "      <td>600519.XSHG</td>\n",
       "      <td>600519</td>\n",
       "      <td>贵州茅台</td>\n",
       "      <td>XSHG</td>\n",
       "      <td>2019-12-27</td>\n",
       "      <td>1135.10</td>\n",
       "      <td>1135.10</td>\n",
       "      <td>1150.00</td>\n",
       "      <td>1172.00</td>\n",
       "      <td>1150.00</td>\n",
       "      <td>1163.00</td>\n",
       "      <td>4706628</td>\n",
       "      <td>5486452901</td>\n",
       "      <td>27166</td>\n",
       "      <td>0.0037</td>\n",
       "      <td>1.00000</td>\n",
       "      <td>1460958041400</td>\n",
       "      <td>1460958041400</td>\n",
       "      <td>0.0246</td>\n",
       "      <td>35.6985</td>\n",
       "      <td>35.9785</td>\n",
       "      <td>11.6636</td>\n",
       "      <td>1</td>\n",
       "      <td>1165.687</td>\n",
       "    </tr>\n",
       "    <tr>\n",
       "      <th>1217</th>\n",
       "      <td>1217</td>\n",
       "      <td>600519.XSHG</td>\n",
       "      <td>600519</td>\n",
       "      <td>贵州茅台</td>\n",
       "      <td>XSHG</td>\n",
       "      <td>2019-12-30</td>\n",
       "      <td>1163.00</td>\n",
       "      <td>1163.00</td>\n",
       "      <td>1170.20</td>\n",
       "      <td>1195.50</td>\n",
       "      <td>1170.20</td>\n",
       "      <td>1185.80</td>\n",
       "      <td>4076066</td>\n",
       "      <td>4827682057</td>\n",
       "      <td>24313</td>\n",
       "      <td>0.0032</td>\n",
       "      <td>1.00000</td>\n",
       "      <td>1489599351240</td>\n",
       "      <td>1489599351240</td>\n",
       "      <td>0.0196</td>\n",
       "      <td>36.3983</td>\n",
       "      <td>36.6838</td>\n",
       "      <td>11.8922</td>\n",
       "      <td>1</td>\n",
       "      <td>1184.397</td>\n",
       "    </tr>\n",
       "    <tr>\n",
       "      <th>1218</th>\n",
       "      <td>1218</td>\n",
       "      <td>600519.XSHG</td>\n",
       "      <td>600519</td>\n",
       "      <td>贵州茅台</td>\n",
       "      <td>XSHG</td>\n",
       "      <td>2019-12-31</td>\n",
       "      <td>1185.80</td>\n",
       "      <td>1185.80</td>\n",
       "      <td>1183.00</td>\n",
       "      <td>1188.00</td>\n",
       "      <td>1176.51</td>\n",
       "      <td>1183.00</td>\n",
       "      <td>2258881</td>\n",
       "      <td>2666705100</td>\n",
       "      <td>14671</td>\n",
       "      <td>0.0018</td>\n",
       "      <td>1.00000</td>\n",
       "      <td>1486081997400</td>\n",
       "      <td>1486081997400</td>\n",
       "      <td>-0.0024</td>\n",
       "      <td>36.3124</td>\n",
       "      <td>36.5972</td>\n",
       "      <td>11.8641</td>\n",
       "      <td>1</td>\n",
       "      <td>1180.543</td>\n",
       "    </tr>\n",
       "  </tbody>\n",
       "</table>\n",
       "<p>1219 rows × 25 columns</p>\n",
       "</div>"
      ],
      "text/plain": [
       "      Unnamed: 0        secID  ticker  ...       PB isOpen      vwap\n",
       "0              0  600519.XSHG  600519  ...   4.3286      1   198.388\n",
       "1              1  600519.XSHG  600519  ...   4.2283      1   199.014\n",
       "2              2  600519.XSHG  600519  ...   4.1238      1   194.155\n",
       "3              3  600519.XSHG  600519  ...   4.0986      1   191.948\n",
       "4              4  600519.XSHG  600519  ...   4.0676      1   192.648\n",
       "...          ...          ...     ...  ...      ...    ...       ...\n",
       "1214        1214  600519.XSHG  600519  ...  11.3697      1  1133.769\n",
       "1215        1215  600519.XSHG  600519  ...  11.3838      1  1130.378\n",
       "1216        1216  600519.XSHG  600519  ...  11.6636      1  1165.687\n",
       "1217        1217  600519.XSHG  600519  ...  11.8922      1  1184.397\n",
       "1218        1218  600519.XSHG  600519  ...  11.8641      1  1180.543\n",
       "\n",
       "[1219 rows x 25 columns]"
      ]
     },
     "execution_count": 38,
     "metadata": {
      "tags": []
     },
     "output_type": "execute_result"
    }
   ],
   "source": [
    "df = pd.read_csv('/content/project/maotai_600519.csv')\n",
    "df"
   ]
  },
  {
   "cell_type": "code",
   "execution_count": 48,
   "metadata": {
    "colab": {
     "base_uri": "https://localhost:8080/",
     "height": 388
    },
    "colab_type": "code",
    "executionInfo": {
     "elapsed": 472,
     "status": "ok",
     "timestamp": 1590701486099,
     "user": {
      "displayName": "Alex Er",
      "photoUrl": "",
      "userId": "04455077611159472702"
     },
     "user_tz": 240
    },
    "id": "KKWqqWR3K-YI",
    "outputId": "d85cea75-6120-408d-ca21-c417d35e4a35"
   },
   "outputs": [
    {
     "data": {
      "image/png": "[encoded data removed]",
      "text/plain": [
       "<Figure size 720x432 with 1 Axes>"
      ]
     },
     "metadata": {
      "needs_background": "light",
      "tags": []
     },
     "output_type": "display_data"
    }
   ],
   "source": [
    "series = df['openPrice'].to_numpy()\n",
    "time = np.array(df.index)\n",
    "plt.figure(figsize=(10, 6))\n",
    "plot_series(time, series)"
   ]
  },
  {
   "cell_type": "code",
   "execution_count": 0,
   "metadata": {
    "colab": {},
    "colab_type": "code",
    "id": "KD2s5Pf8MFej"
   },
   "outputs": [],
   "source": [
    "split_time = 1000\n",
    "time_train = time[:split_time]\n",
    "x_train = series[:split_time]\n",
    "time_valid = time[split_time:]\n",
    "x_valid = series[split_time:]\n",
    "\n",
    "window_size = 30\n",
    "batch_size = 32\n",
    "shuffle_buffer_size = 1000"
   ]
  },
  {
   "cell_type": "code",
   "execution_count": 0,
   "metadata": {
    "colab": {},
    "colab_type": "code",
    "id": "Vfj1CyPfMeTr"
   },
   "outputs": [],
   "source": [
    "def windowed_dataset(series, window_size, batch_size, shuffle_buffer):\n",
    "    series = tf.expand_dims(series, axis=-1)\n",
    "    ds = tf.data.Dataset.from_tensor_slices(series)\n",
    "    ds = ds.window(window_size + 1, shift=1, drop_remainder=True)\n",
    "    ds = ds.flat_map(lambda w: w.batch(window_size + 1))\n",
    "    ds = ds.shuffle(shuffle_buffer)\n",
    "    ds = ds.map(lambda w: (w[:-1], w[1:]))\n",
    "    return ds.batch(batch_size).prefetch(1)\n",
    "def model_forecast(model, series, window_size):\n",
    "    ds = tf.data.Dataset.from_tensor_slices(series)\n",
    "    ds = ds.window(window_size, shift=1, drop_remainder=True)\n",
    "    ds = ds.flat_map(lambda w: w.batch(window_size))\n",
    "    ds = ds.batch(32).prefetch(1)\n",
    "    forecast = model.predict(ds)\n",
    "    return forecast"
   ]
  },
  {
   "cell_type": "code",
   "execution_count": 67,
   "metadata": {
    "colab": {
     "base_uri": "https://localhost:8080/",
     "height": 1000
    },
    "colab_type": "code",
    "executionInfo": {
     "elapsed": 34720,
     "status": "ok",
     "timestamp": 1590703638373,
     "user": {
      "displayName": "Alex Er",
      "photoUrl": "",
      "userId": "04455077611159472702"
     },
     "user_tz": 240
    },
    "id": "xgrHK9fbM5r9",
    "outputId": "e8ca8bbb-3e1f-48a7-ac3a-abee43723ac4"
   },
   "outputs": [
    {
     "name": "stdout",
     "output_type": "stream",
     "text": [
      "<PrefetchDataset shapes: ((None, None, 1), (None, None, 1)), types: (tf.float64, tf.float64)>\n",
      "(1000,)\n",
      "Epoch 1/50\n",
      "31/31 [==============================] - 0s 16ms/step - loss: 349.6429 - mae: 350.1429 - lr: 1.0000e-08\n",
      "Epoch 2/50\n",
      "31/31 [==============================] - 0s 16ms/step - loss: 339.1537 - mae: 339.6537 - lr: 1.1220e-08\n",
      "Epoch 3/50\n",
      "31/31 [==============================] - 1s 17ms/step - loss: 316.8854 - mae: 317.3854 - lr: 1.2589e-08\n",
      "Epoch 4/50\n",
      "31/31 [==============================] - 1s 17ms/step - loss: 295.0041 - mae: 295.5041 - lr: 1.4125e-08\n",
      "Epoch 5/50\n",
      "31/31 [==============================] - 1s 17ms/step - loss: 283.5259 - mae: 284.0260 - lr: 1.5849e-08\n",
      "Epoch 6/50\n",
      "31/31 [==============================] - 1s 17ms/step - loss: 273.7211 - mae: 274.2210 - lr: 1.7783e-08\n",
      "Epoch 7/50\n",
      "31/31 [==============================] - 1s 16ms/step - loss: 262.2570 - mae: 262.7566 - lr: 1.9953e-08\n",
      "Epoch 8/50\n",
      "31/31 [==============================] - 1s 16ms/step - loss: 243.9034 - mae: 244.4017 - lr: 2.2387e-08\n",
      "Epoch 9/50\n",
      "31/31 [==============================] - 1s 16ms/step - loss: 234.0907 - mae: 234.5891 - lr: 2.5119e-08\n",
      "Epoch 10/50\n",
      "31/31 [==============================] - 1s 16ms/step - loss: 226.7855 - mae: 227.2846 - lr: 2.8184e-08\n",
      "Epoch 11/50\n",
      "31/31 [==============================] - 1s 17ms/step - loss: 210.9890 - mae: 211.4880 - lr: 3.1623e-08\n",
      "Epoch 12/50\n",
      "31/31 [==============================] - 1s 17ms/step - loss: 197.1130 - mae: 197.6120 - lr: 3.5481e-08\n",
      "Epoch 13/50\n",
      "31/31 [==============================] - 1s 17ms/step - loss: 193.2120 - mae: 193.7114 - lr: 3.9811e-08\n",
      "Epoch 14/50\n",
      "31/31 [==============================] - 1s 16ms/step - loss: 189.5109 - mae: 190.0103 - lr: 4.4668e-08\n",
      "Epoch 15/50\n",
      "31/31 [==============================] - 1s 17ms/step - loss: 185.8304 - mae: 186.3297 - lr: 5.0119e-08\n",
      "Epoch 16/50\n",
      "31/31 [==============================] - 1s 17ms/step - loss: 182.0344 - mae: 182.5338 - lr: 5.6234e-08\n",
      "Epoch 17/50\n",
      "31/31 [==============================] - 1s 17ms/step - loss: 178.2998 - mae: 178.7984 - lr: 6.3096e-08\n",
      "Epoch 18/50\n",
      "31/31 [==============================] - 1s 19ms/step - loss: 173.6939 - mae: 174.1926 - lr: 7.0795e-08\n",
      "Epoch 19/50\n",
      "31/31 [==============================] - 1s 18ms/step - loss: 169.6332 - mae: 170.1319 - lr: 7.9433e-08\n",
      "Epoch 20/50\n",
      "31/31 [==============================] - 1s 17ms/step - loss: 166.8187 - mae: 167.3178 - lr: 8.9125e-08\n",
      "Epoch 21/50\n",
      "31/31 [==============================] - 1s 19ms/step - loss: 164.5915 - mae: 165.0910 - lr: 1.0000e-07\n",
      "Epoch 22/50\n",
      "31/31 [==============================] - 1s 16ms/step - loss: 162.8907 - mae: 163.3902 - lr: 1.1220e-07\n",
      "Epoch 23/50\n",
      "31/31 [==============================] - 1s 17ms/step - loss: 161.3444 - mae: 161.8435 - lr: 1.2589e-07\n",
      "Epoch 24/50\n",
      "31/31 [==============================] - 1s 17ms/step - loss: 160.0621 - mae: 160.5614 - lr: 1.4125e-07\n",
      "Epoch 25/50\n",
      "31/31 [==============================] - 1s 17ms/step - loss: 159.0724 - mae: 159.5717 - lr: 1.5849e-07\n",
      "Epoch 26/50\n",
      "31/31 [==============================] - 1s 17ms/step - loss: 157.9793 - mae: 158.4788 - lr: 1.7783e-07\n",
      "Epoch 27/50\n",
      "31/31 [==============================] - 1s 17ms/step - loss: 156.6575 - mae: 157.1571 - lr: 1.9953e-07\n",
      "Epoch 28/50\n",
      "31/31 [==============================] - 1s 17ms/step - loss: 155.8526 - mae: 156.3521 - lr: 2.2387e-07\n",
      "Epoch 29/50\n",
      "31/31 [==============================] - 1s 17ms/step - loss: 154.9511 - mae: 155.4506 - lr: 2.5119e-07\n",
      "Epoch 30/50\n",
      "31/31 [==============================] - 1s 17ms/step - loss: 154.0752 - mae: 154.5747 - lr: 2.8184e-07\n",
      "Epoch 31/50\n",
      "31/31 [==============================] - 1s 17ms/step - loss: 153.7043 - mae: 154.2038 - lr: 3.1623e-07\n",
      "Epoch 32/50\n",
      "31/31 [==============================] - 1s 17ms/step - loss: 150.8583 - mae: 151.3578 - lr: 3.5481e-07\n",
      "Epoch 33/50\n",
      "31/31 [==============================] - 1s 17ms/step - loss: 146.5737 - mae: 147.0732 - lr: 3.9811e-07\n",
      "Epoch 34/50\n",
      "31/31 [==============================] - 1s 17ms/step - loss: 144.7949 - mae: 145.2943 - lr: 4.4668e-07\n",
      "Epoch 35/50\n",
      "31/31 [==============================] - 1s 17ms/step - loss: 141.9897 - mae: 142.4891 - lr: 5.0119e-07\n",
      "Epoch 36/50\n",
      "31/31 [==============================] - 1s 17ms/step - loss: 140.8425 - mae: 141.3419 - lr: 5.6234e-07\n",
      "Epoch 37/50\n",
      "31/31 [==============================] - 1s 17ms/step - loss: 141.3596 - mae: 141.8591 - lr: 6.3096e-07\n",
      "Epoch 38/50\n",
      "31/31 [==============================] - 1s 17ms/step - loss: 151.6933 - mae: 152.1929 - lr: 7.0795e-07\n",
      "Epoch 39/50\n",
      "31/31 [==============================] - 1s 17ms/step - loss: 145.3968 - mae: 145.8964 - lr: 7.9433e-07\n",
      "Epoch 40/50\n",
      "31/31 [==============================] - 1s 19ms/step - loss: 137.2826 - mae: 137.7816 - lr: 8.9125e-07\n",
      "Epoch 41/50\n",
      "31/31 [==============================] - 1s 17ms/step - loss: 135.9106 - mae: 136.4101 - lr: 1.0000e-06\n",
      "Epoch 42/50\n",
      "31/31 [==============================] - 1s 17ms/step - loss: 130.1066 - mae: 130.6059 - lr: 1.1220e-06\n",
      "Epoch 43/50\n",
      "31/31 [==============================] - 1s 18ms/step - loss: 141.6357 - mae: 142.1351 - lr: 1.2589e-06\n",
      "Epoch 44/50\n",
      "31/31 [==============================] - 1s 19ms/step - loss: 142.0058 - mae: 142.5050 - lr: 1.4125e-06\n",
      "Epoch 45/50\n",
      "31/31 [==============================] - 1s 18ms/step - loss: 136.5461 - mae: 137.0456 - lr: 1.5849e-06\n",
      "Epoch 46/50\n",
      "31/31 [==============================] - 1s 18ms/step - loss: 137.8484 - mae: 138.3478 - lr: 1.7783e-06\n",
      "Epoch 47/50\n",
      "31/31 [==============================] - 1s 18ms/step - loss: 132.5589 - mae: 133.0578 - lr: 1.9953e-06\n",
      "Epoch 48/50\n",
      "31/31 [==============================] - 1s 17ms/step - loss: 139.9587 - mae: 140.4578 - lr: 2.2387e-06\n",
      "Epoch 49/50\n",
      "31/31 [==============================] - 1s 16ms/step - loss: 128.1615 - mae: 128.6606 - lr: 2.5119e-06\n",
      "Epoch 50/50\n",
      "31/31 [==============================] - 0s 16ms/step - loss: 158.2045 - mae: 158.7038 - lr: 2.8184e-06\n"
     ]
    }
   ],
   "source": [
    "tf.keras.backend.clear_session()\n",
    "tf.random.set_seed(51)\n",
    "np.random.seed(51)\n",
    "window_size = 30\n",
    "batch_size = 32\n",
    "train_set = windowed_dataset(x_train, window_size, batch_size, shuffle_buffer_size)\n",
    "print(train_set)\n",
    "print(x_train.shape)\n",
    "\n",
    "model = tf.keras.models.Sequential([\n",
    "  tf.keras.layers.Conv1D(filters=32, kernel_size=5,\n",
    "                      strides=1, padding=\"causal\",\n",
    "                      activation=\"relu\",\n",
    "                      input_shape=[None, 1]),\n",
    "  tf.keras.layers.LSTM(32, return_sequences=True),\n",
    "  # tf.keras.layers.LSTM(64, return_sequences=True),\n",
    "  tf.keras.layers.Dense(30, activation=\"relu\"),\n",
    "  tf.keras.layers.Dense(10, activation=\"relu\"),\n",
    "  tf.keras.layers.Dense(1),\n",
    "  tf.keras.layers.Lambda(lambda x: x * 400)\n",
    "])\n",
    "\n",
    "lr_schedule = tf.keras.callbacks.LearningRateScheduler(\n",
    "    lambda epoch: 1e-8 * 10**(epoch / 20))\n",
    "optimizer = tf.keras.optimizers.SGD(lr=1e-8, momentum=0.9)\n",
    "model.compile(loss=tf.keras.losses.Huber(),\n",
    "              optimizer=optimizer,\n",
    "              metrics=[\"mae\"])\n",
    "history = model.fit(train_set, epochs=50, callbacks=[lr_schedule])"
   ]
  },
  {
   "cell_type": "code",
   "execution_count": 68,
   "metadata": {
    "colab": {
     "base_uri": "https://localhost:8080/",
     "height": 286
    },
    "colab_type": "code",
    "executionInfo": {
     "elapsed": 574,
     "status": "ok",
     "timestamp": 1590703649889,
     "user": {
      "displayName": "Alex Er",
      "photoUrl": "",
      "userId": "04455077611159472702"
     },
     "user_tz": 240
    },
    "id": "UOzO6Tu4NAVk",
    "outputId": "5be097d0-88ff-403d-9e3f-0f3863369344"
   },
   "outputs": [
    {
     "data": {
      "text/plain": [
       "[<matplotlib.lines.Line2D at 0x7f8d1eeef5f8>]"
      ]
     },
     "execution_count": 68,
     "metadata": {
      "tags": []
     },
     "output_type": "execute_result"
    },
    {
     "data": {
      "image/png": "[encoded data removed]",
      "text/plain": [
       "<Figure size 432x288 with 1 Axes>"
      ]
     },
     "metadata": {
      "needs_background": "light",
      "tags": []
     },
     "output_type": "display_data"
    }
   ],
   "source": [
    "plt.semilogx(history.history[\"lr\"], history.history[\"loss\"])\n",
    "# plt.axis([1e-8, 1e-4, 0, 60])"
   ]
  },
  {
   "cell_type": "code",
   "execution_count": 57,
   "metadata": {
    "colab": {
     "base_uri": "https://localhost:8080/",
     "height": 1000
    },
    "colab_type": "code",
    "executionInfo": {
     "elapsed": 704715,
     "status": "ok",
     "timestamp": 1590703073930,
     "user": {
      "displayName": "Alex Er",
      "photoUrl": "",
      "userId": "04455077611159472702"
     },
     "user_tz": 240
    },
    "id": "-JVh3YhmNFO8",
    "outputId": "ee15cf3e-0ef9-49a4-c1ab-06a3270c7c79"
   },
   "outputs": [
    {
     "name": "stdout",
     "output_type": "stream",
     "text": [
      "Epoch 1/500\n",
      "10/10 [==============================] - 1s 112ms/step - loss: 321.9422 - mae: 322.4420\n",
      "Epoch 2/500\n",
      "10/10 [==============================] - 1s 113ms/step - loss: 178.7266 - mae: 179.2262\n",
      "Epoch 3/500\n",
      "10/10 [==============================] - 1s 112ms/step - loss: 180.3540 - mae: 180.8536\n",
      "Epoch 4/500\n",
      "10/10 [==============================] - 1s 112ms/step - loss: 170.7418 - mae: 171.2414\n",
      "Epoch 5/500\n",
      "10/10 [==============================] - 1s 112ms/step - loss: 166.8227 - mae: 167.3223\n",
      "Epoch 6/500\n",
      "10/10 [==============================] - 1s 113ms/step - loss: 166.1202 - mae: 166.6195\n",
      "Epoch 7/500\n",
      "10/10 [==============================] - 1s 112ms/step - loss: 164.4174 - mae: 164.9170\n",
      "Epoch 8/500\n",
      "10/10 [==============================] - 1s 113ms/step - loss: 161.5793 - mae: 162.0789\n",
      "Epoch 9/500\n",
      "10/10 [==============================] - 1s 110ms/step - loss: 160.8778 - mae: 161.3773\n",
      "Epoch 10/500\n",
      "10/10 [==============================] - 1s 111ms/step - loss: 160.8849 - mae: 161.3843\n",
      "Epoch 11/500\n",
      "10/10 [==============================] - 1s 111ms/step - loss: 162.1250 - mae: 162.6246\n",
      "Epoch 12/500\n",
      "10/10 [==============================] - 1s 111ms/step - loss: 161.1557 - mae: 161.6550\n",
      "Epoch 13/500\n",
      "10/10 [==============================] - 1s 109ms/step - loss: 157.4240 - mae: 157.9233\n",
      "Epoch 14/500\n",
      "10/10 [==============================] - 1s 111ms/step - loss: 161.4758 - mae: 161.9751\n",
      "Epoch 15/500\n",
      "10/10 [==============================] - 1s 110ms/step - loss: 164.9032 - mae: 165.4028\n",
      "Epoch 16/500\n",
      "10/10 [==============================] - 1s 113ms/step - loss: 164.0393 - mae: 164.5388\n",
      "Epoch 17/500\n",
      "10/10 [==============================] - 1s 112ms/step - loss: 162.9851 - mae: 163.4846\n",
      "Epoch 18/500\n",
      "10/10 [==============================] - 1s 112ms/step - loss: 162.6489 - mae: 163.1484\n",
      "Epoch 19/500\n",
      "10/10 [==============================] - 1s 112ms/step - loss: 161.7261 - mae: 162.2256\n",
      "Epoch 20/500\n",
      "10/10 [==============================] - 1s 112ms/step - loss: 161.5528 - mae: 162.0523\n",
      "Epoch 21/500\n",
      "10/10 [==============================] - 1s 115ms/step - loss: 164.2551 - mae: 164.7543\n",
      "Epoch 22/500\n",
      "10/10 [==============================] - 1s 118ms/step - loss: 166.2791 - mae: 166.7789\n",
      "Epoch 23/500\n",
      "10/10 [==============================] - 1s 115ms/step - loss: 165.5857 - mae: 166.0850\n",
      "Epoch 24/500\n",
      "10/10 [==============================] - 1s 118ms/step - loss: 161.7997 - mae: 162.2992\n",
      "Epoch 25/500\n",
      "10/10 [==============================] - 1s 118ms/step - loss: 157.6689 - mae: 158.1681\n",
      "Epoch 26/500\n",
      "10/10 [==============================] - 1s 112ms/step - loss: 164.5555 - mae: 165.0552\n",
      "Epoch 27/500\n",
      "10/10 [==============================] - 1s 118ms/step - loss: 160.3473 - mae: 160.8463\n",
      "Epoch 28/500\n",
      "10/10 [==============================] - 1s 111ms/step - loss: 162.7113 - mae: 163.2105\n",
      "Epoch 29/500\n",
      "10/10 [==============================] - 1s 116ms/step - loss: 172.9884 - mae: 173.4878\n",
      "Epoch 30/500\n",
      "10/10 [==============================] - 1s 111ms/step - loss: 168.3371 - mae: 168.8368\n",
      "Epoch 31/500\n",
      "10/10 [==============================] - 1s 114ms/step - loss: 162.6301 - mae: 163.1290\n",
      "Epoch 32/500\n",
      "10/10 [==============================] - 1s 109ms/step - loss: 155.0226 - mae: 155.5220\n",
      "Epoch 33/500\n",
      "10/10 [==============================] - 1s 112ms/step - loss: 164.2673 - mae: 164.7668\n",
      "Epoch 34/500\n",
      "10/10 [==============================] - 1s 113ms/step - loss: 161.7681 - mae: 162.2674\n",
      "Epoch 35/500\n",
      "10/10 [==============================] - 1s 112ms/step - loss: 155.2714 - mae: 155.7708\n",
      "Epoch 36/500\n",
      "10/10 [==============================] - 1s 111ms/step - loss: 157.8580 - mae: 158.3572\n",
      "Epoch 37/500\n",
      "10/10 [==============================] - 1s 117ms/step - loss: 169.4465 - mae: 169.9463\n",
      "Epoch 38/500\n",
      "10/10 [==============================] - 1s 115ms/step - loss: 168.0745 - mae: 168.5738\n",
      "Epoch 39/500\n",
      "10/10 [==============================] - 1s 113ms/step - loss: 166.9878 - mae: 167.4875\n",
      "Epoch 40/500\n",
      "10/10 [==============================] - 1s 114ms/step - loss: 167.5538 - mae: 168.0529\n",
      "Epoch 41/500\n",
      "10/10 [==============================] - 1s 112ms/step - loss: 167.9052 - mae: 168.4047\n",
      "Epoch 42/500\n",
      "10/10 [==============================] - 1s 116ms/step - loss: 165.3613 - mae: 165.8603\n",
      "Epoch 43/500\n",
      "10/10 [==============================] - 1s 119ms/step - loss: 165.5999 - mae: 166.0995\n",
      "Epoch 44/500\n",
      "10/10 [==============================] - 1s 112ms/step - loss: 164.8659 - mae: 165.3654\n",
      "Epoch 45/500\n",
      "10/10 [==============================] - 1s 112ms/step - loss: 164.0295 - mae: 164.5289\n",
      "Epoch 46/500\n",
      "10/10 [==============================] - 1s 111ms/step - loss: 163.0618 - mae: 163.5613\n",
      "Epoch 47/500\n",
      "10/10 [==============================] - 1s 117ms/step - loss: 161.7578 - mae: 162.2570\n",
      "Epoch 48/500\n",
      "10/10 [==============================] - 1s 112ms/step - loss: 166.0383 - mae: 166.5380\n",
      "Epoch 49/500\n",
      "10/10 [==============================] - 1s 114ms/step - loss: 167.1786 - mae: 167.6780\n",
      "Epoch 50/500\n",
      "10/10 [==============================] - 1s 113ms/step - loss: 166.2617 - mae: 166.7609\n",
      "Epoch 51/500\n",
      "10/10 [==============================] - 1s 116ms/step - loss: 165.5113 - mae: 166.0109\n",
      "Epoch 52/500\n",
      "10/10 [==============================] - 1s 115ms/step - loss: 159.6057 - mae: 160.1047\n",
      "Epoch 53/500\n",
      "10/10 [==============================] - 1s 111ms/step - loss: 161.8975 - mae: 162.3968\n",
      "Epoch 54/500\n",
      "10/10 [==============================] - 1s 114ms/step - loss: 160.2643 - mae: 160.7637\n",
      "Epoch 55/500\n",
      "10/10 [==============================] - 1s 113ms/step - loss: 164.5612 - mae: 165.0602\n",
      "Epoch 56/500\n",
      "10/10 [==============================] - 1s 111ms/step - loss: 161.2164 - mae: 161.7157\n",
      "Epoch 57/500\n",
      "10/10 [==============================] - 1s 113ms/step - loss: 161.7648 - mae: 162.2643\n",
      "Epoch 58/500\n",
      "10/10 [==============================] - 1s 111ms/step - loss: 165.4149 - mae: 165.9144\n",
      "Epoch 59/500\n",
      "10/10 [==============================] - 1s 111ms/step - loss: 178.8826 - mae: 179.3817\n",
      "Epoch 60/500\n",
      "10/10 [==============================] - 1s 111ms/step - loss: 166.8921 - mae: 167.3917\n",
      "Epoch 61/500\n",
      "10/10 [==============================] - 1s 112ms/step - loss: 168.2452 - mae: 168.7442\n",
      "Epoch 62/500\n",
      "10/10 [==============================] - 1s 113ms/step - loss: 164.9272 - mae: 165.4266\n",
      "Epoch 63/500\n",
      "10/10 [==============================] - 1s 111ms/step - loss: 162.6832 - mae: 163.1830\n",
      "Epoch 64/500\n",
      "10/10 [==============================] - 1s 113ms/step - loss: 161.1090 - mae: 161.6085\n",
      "Epoch 65/500\n",
      "10/10 [==============================] - 1s 112ms/step - loss: 157.8869 - mae: 158.3865\n",
      "Epoch 66/500\n",
      "10/10 [==============================] - 1s 113ms/step - loss: 158.8301 - mae: 159.3295\n",
      "Epoch 67/500\n",
      "10/10 [==============================] - 1s 112ms/step - loss: 161.7502 - mae: 162.2496\n",
      "Epoch 68/500\n",
      "10/10 [==============================] - 1s 115ms/step - loss: 161.6560 - mae: 162.1555\n",
      "Epoch 69/500\n",
      "10/10 [==============================] - 1s 117ms/step - loss: 160.7437 - mae: 161.2431\n",
      "Epoch 70/500\n",
      "10/10 [==============================] - 1s 114ms/step - loss: 160.1488 - mae: 160.6481\n",
      "Epoch 71/500\n",
      "10/10 [==============================] - 1s 118ms/step - loss: 162.3591 - mae: 162.8586\n",
      "Epoch 72/500\n",
      "10/10 [==============================] - 1s 113ms/step - loss: 162.5883 - mae: 163.0874\n",
      "Epoch 73/500\n",
      "10/10 [==============================] - 1s 113ms/step - loss: 157.1734 - mae: 157.6729\n",
      "Epoch 74/500\n",
      "10/10 [==============================] - 1s 117ms/step - loss: 159.9501 - mae: 160.4496\n",
      "Epoch 75/500\n",
      "10/10 [==============================] - 1s 115ms/step - loss: 164.2858 - mae: 164.7850\n",
      "Epoch 76/500\n",
      "10/10 [==============================] - 1s 116ms/step - loss: 170.3633 - mae: 170.8625\n",
      "Epoch 77/500\n",
      "10/10 [==============================] - 1s 113ms/step - loss: 161.1970 - mae: 161.6967\n",
      "Epoch 78/500\n",
      "10/10 [==============================] - 1s 114ms/step - loss: 156.1517 - mae: 156.6511\n",
      "Epoch 79/500\n",
      "10/10 [==============================] - 1s 112ms/step - loss: 158.2538 - mae: 158.7534\n",
      "Epoch 80/500\n",
      "10/10 [==============================] - 1s 113ms/step - loss: 156.9544 - mae: 157.4536\n",
      "Epoch 81/500\n",
      "10/10 [==============================] - 1s 114ms/step - loss: 147.6471 - mae: 148.1467\n",
      "Epoch 82/500\n",
      "10/10 [==============================] - 1s 114ms/step - loss: 167.8826 - mae: 168.3819\n",
      "Epoch 83/500\n",
      "10/10 [==============================] - 1s 120ms/step - loss: 166.8786 - mae: 167.3781\n",
      "Epoch 84/500\n",
      "10/10 [==============================] - 1s 119ms/step - loss: 158.7478 - mae: 159.2475\n",
      "Epoch 85/500\n",
      "10/10 [==============================] - 1s 115ms/step - loss: 151.3697 - mae: 151.8689\n",
      "Epoch 86/500\n",
      "10/10 [==============================] - 1s 112ms/step - loss: 172.6944 - mae: 173.1929\n",
      "Epoch 87/500\n",
      "10/10 [==============================] - 1s 111ms/step - loss: 170.5481 - mae: 171.0473\n",
      "Epoch 88/500\n",
      "10/10 [==============================] - 1s 112ms/step - loss: 167.4395 - mae: 167.9390\n",
      "Epoch 89/500\n",
      "10/10 [==============================] - 1s 112ms/step - loss: 167.9563 - mae: 168.4561\n",
      "Epoch 90/500\n",
      "10/10 [==============================] - 1s 111ms/step - loss: 168.2303 - mae: 168.7298\n",
      "Epoch 91/500\n",
      "10/10 [==============================] - 1s 115ms/step - loss: 167.4513 - mae: 167.9499\n",
      "Epoch 92/500\n",
      "10/10 [==============================] - 1s 113ms/step - loss: 167.0214 - mae: 167.5206\n",
      "Epoch 93/500\n",
      "10/10 [==============================] - 1s 112ms/step - loss: 166.1135 - mae: 166.6128\n",
      "Epoch 94/500\n",
      "10/10 [==============================] - 1s 112ms/step - loss: 165.7426 - mae: 166.2422\n",
      "Epoch 95/500\n",
      "10/10 [==============================] - 1s 112ms/step - loss: 165.1659 - mae: 165.6648\n",
      "Epoch 96/500\n",
      "10/10 [==============================] - 1s 114ms/step - loss: 165.1720 - mae: 165.6713\n",
      "Epoch 97/500\n",
      "10/10 [==============================] - 1s 116ms/step - loss: 164.0693 - mae: 164.5688\n",
      "Epoch 98/500\n",
      "10/10 [==============================] - 1s 116ms/step - loss: 163.4788 - mae: 163.9779\n",
      "Epoch 99/500\n",
      "10/10 [==============================] - 1s 112ms/step - loss: 164.0967 - mae: 164.5959\n",
      "Epoch 100/500\n",
      "10/10 [==============================] - 1s 115ms/step - loss: 163.0260 - mae: 163.5254\n",
      "Epoch 101/500\n",
      "10/10 [==============================] - 1s 112ms/step - loss: 163.8757 - mae: 164.3753\n",
      "Epoch 102/500\n",
      "10/10 [==============================] - 1s 112ms/step - loss: 165.7442 - mae: 166.2439\n",
      "Epoch 103/500\n",
      "10/10 [==============================] - 1s 112ms/step - loss: 165.4719 - mae: 165.9711\n",
      "Epoch 104/500\n",
      "10/10 [==============================] - 1s 113ms/step - loss: 164.0076 - mae: 164.5069\n",
      "Epoch 105/500\n",
      "10/10 [==============================] - 1s 110ms/step - loss: 165.3923 - mae: 165.8920\n",
      "Epoch 106/500\n",
      "10/10 [==============================] - 1s 114ms/step - loss: 165.2956 - mae: 165.7949\n",
      "Epoch 107/500\n",
      "10/10 [==============================] - 1s 112ms/step - loss: 164.9592 - mae: 165.4586\n",
      "Epoch 108/500\n",
      "10/10 [==============================] - 1s 112ms/step - loss: 164.7497 - mae: 165.2492\n",
      "Epoch 109/500\n",
      "10/10 [==============================] - 1s 112ms/step - loss: 164.5744 - mae: 165.0737\n",
      "Epoch 110/500\n",
      "10/10 [==============================] - 1s 111ms/step - loss: 164.8451 - mae: 165.3445\n",
      "Epoch 111/500\n",
      "10/10 [==============================] - 1s 110ms/step - loss: 164.5468 - mae: 165.0459\n",
      "Epoch 112/500\n",
      "10/10 [==============================] - 1s 114ms/step - loss: 164.2425 - mae: 164.7417\n",
      "Epoch 113/500\n",
      "10/10 [==============================] - 1s 113ms/step - loss: 163.8894 - mae: 164.3891\n",
      "Epoch 114/500\n",
      "10/10 [==============================] - 1s 112ms/step - loss: 163.6671 - mae: 164.1663\n",
      "Epoch 115/500\n",
      "10/10 [==============================] - 1s 111ms/step - loss: 164.6613 - mae: 165.1608\n",
      "Epoch 116/500\n",
      "10/10 [==============================] - 1s 112ms/step - loss: 166.3941 - mae: 166.8936\n",
      "Epoch 117/500\n",
      "10/10 [==============================] - 1s 111ms/step - loss: 166.4976 - mae: 166.9972\n",
      "Epoch 118/500\n",
      "10/10 [==============================] - 1s 112ms/step - loss: 166.0901 - mae: 166.5898\n",
      "Epoch 119/500\n",
      "10/10 [==============================] - 1s 111ms/step - loss: 166.1190 - mae: 166.6186\n",
      "Epoch 120/500\n",
      "10/10 [==============================] - 1s 113ms/step - loss: 165.1789 - mae: 165.6781\n",
      "Epoch 121/500\n",
      "10/10 [==============================] - 1s 114ms/step - loss: 168.4666 - mae: 168.9655\n",
      "Epoch 122/500\n",
      "10/10 [==============================] - 1s 116ms/step - loss: 165.8283 - mae: 166.3278\n",
      "Epoch 123/500\n",
      "10/10 [==============================] - 1s 113ms/step - loss: 166.0063 - mae: 166.5059\n",
      "Epoch 124/500\n",
      "10/10 [==============================] - 1s 112ms/step - loss: 166.1837 - mae: 166.6832\n",
      "Epoch 125/500\n",
      "10/10 [==============================] - 1s 112ms/step - loss: 165.7717 - mae: 166.2714\n",
      "Epoch 126/500\n",
      "10/10 [==============================] - 1s 114ms/step - loss: 165.8735 - mae: 166.3730\n",
      "Epoch 127/500\n",
      "10/10 [==============================] - 1s 113ms/step - loss: 165.2739 - mae: 165.7731\n",
      "Epoch 128/500\n",
      "10/10 [==============================] - 1s 118ms/step - loss: 164.9500 - mae: 165.4492\n",
      "Epoch 129/500\n",
      "10/10 [==============================] - 1s 113ms/step - loss: 164.9941 - mae: 165.4937\n",
      "Epoch 130/500\n",
      "10/10 [==============================] - 1s 112ms/step - loss: 165.6355 - mae: 166.1350\n",
      "Epoch 131/500\n",
      "10/10 [==============================] - 1s 114ms/step - loss: 165.6130 - mae: 166.1120\n",
      "Epoch 132/500\n",
      "10/10 [==============================] - 1s 111ms/step - loss: 165.4153 - mae: 165.9142\n",
      "Epoch 133/500\n",
      "10/10 [==============================] - 1s 113ms/step - loss: 165.4016 - mae: 165.9010\n",
      "Epoch 134/500\n",
      "10/10 [==============================] - 1s 111ms/step - loss: 165.1406 - mae: 165.6398\n",
      "Epoch 135/500\n",
      "10/10 [==============================] - 1s 114ms/step - loss: 165.2259 - mae: 165.7252\n",
      "Epoch 136/500\n",
      "10/10 [==============================] - 1s 114ms/step - loss: 164.9832 - mae: 165.4822\n",
      "Epoch 137/500\n",
      "10/10 [==============================] - 1s 112ms/step - loss: 164.8780 - mae: 165.3772\n",
      "Epoch 138/500\n",
      "10/10 [==============================] - 1s 117ms/step - loss: 164.9093 - mae: 165.4087\n",
      "Epoch 139/500\n",
      "10/10 [==============================] - 1s 111ms/step - loss: 164.6940 - mae: 165.1933\n",
      "Epoch 140/500\n",
      "10/10 [==============================] - 1s 112ms/step - loss: 164.7061 - mae: 165.2054\n",
      "Epoch 141/500\n",
      "10/10 [==============================] - 1s 113ms/step - loss: 165.1567 - mae: 165.6562\n",
      "Epoch 142/500\n",
      "10/10 [==============================] - 1s 112ms/step - loss: 164.5413 - mae: 165.0406\n",
      "Epoch 143/500\n",
      "10/10 [==============================] - 1s 114ms/step - loss: 164.8166 - mae: 165.3163\n",
      "Epoch 144/500\n",
      "10/10 [==============================] - 1s 112ms/step - loss: 164.6409 - mae: 165.1406\n",
      "Epoch 145/500\n",
      "10/10 [==============================] - 1s 115ms/step - loss: 164.5078 - mae: 165.0072\n",
      "Epoch 146/500\n",
      "10/10 [==============================] - 1s 111ms/step - loss: 164.6019 - mae: 165.1012\n",
      "Epoch 147/500\n",
      "10/10 [==============================] - 1s 111ms/step - loss: 164.1502 - mae: 164.6492\n",
      "Epoch 148/500\n",
      "10/10 [==============================] - 1s 112ms/step - loss: 163.9747 - mae: 164.4738\n",
      "Epoch 149/500\n",
      "10/10 [==============================] - 1s 119ms/step - loss: 163.8516 - mae: 164.3508\n",
      "Epoch 150/500\n",
      "10/10 [==============================] - 1s 113ms/step - loss: 163.7219 - mae: 164.2211\n",
      "Epoch 151/500\n",
      "10/10 [==============================] - 1s 115ms/step - loss: 163.9036 - mae: 164.4029\n",
      "Epoch 152/500\n",
      "10/10 [==============================] - 1s 116ms/step - loss: 163.6138 - mae: 164.1132\n",
      "Epoch 153/500\n",
      "10/10 [==============================] - 1s 113ms/step - loss: 163.6759 - mae: 164.1757\n",
      "Epoch 154/500\n",
      "10/10 [==============================] - 1s 112ms/step - loss: 163.9006 - mae: 164.4002\n",
      "Epoch 155/500\n",
      "10/10 [==============================] - 1s 112ms/step - loss: 163.6974 - mae: 164.1969\n",
      "Epoch 156/500\n",
      "10/10 [==============================] - 1s 118ms/step - loss: 163.0981 - mae: 163.5975\n",
      "Epoch 157/500\n",
      "10/10 [==============================] - 1s 117ms/step - loss: 163.0581 - mae: 163.5577\n",
      "Epoch 158/500\n",
      "10/10 [==============================] - 1s 116ms/step - loss: 162.6541 - mae: 163.1535\n",
      "Epoch 159/500\n",
      "10/10 [==============================] - 1s 112ms/step - loss: 163.0285 - mae: 163.5278\n",
      "Epoch 160/500\n",
      "10/10 [==============================] - 1s 113ms/step - loss: 162.7073 - mae: 163.2068\n",
      "Epoch 161/500\n",
      "10/10 [==============================] - 1s 112ms/step - loss: 163.1864 - mae: 163.6858\n",
      "Epoch 162/500\n",
      "10/10 [==============================] - 1s 115ms/step - loss: 162.6272 - mae: 163.1268\n",
      "Epoch 163/500\n",
      "10/10 [==============================] - 1s 111ms/step - loss: 162.0575 - mae: 162.5568\n",
      "Epoch 164/500\n",
      "10/10 [==============================] - 1s 113ms/step - loss: 161.2155 - mae: 161.7147\n",
      "Epoch 165/500\n",
      "10/10 [==============================] - 1s 115ms/step - loss: 159.8611 - mae: 160.3605\n",
      "Epoch 166/500\n",
      "10/10 [==============================] - 1s 117ms/step - loss: 158.6282 - mae: 159.1273\n",
      "Epoch 167/500\n",
      "10/10 [==============================] - 1s 114ms/step - loss: 158.6636 - mae: 159.1632\n",
      "Epoch 168/500\n",
      "10/10 [==============================] - 1s 111ms/step - loss: 165.5526 - mae: 166.0517\n",
      "Epoch 169/500\n",
      "10/10 [==============================] - 1s 114ms/step - loss: 163.4283 - mae: 163.9274\n",
      "Epoch 170/500\n",
      "10/10 [==============================] - 1s 113ms/step - loss: 162.8443 - mae: 163.3436\n",
      "Epoch 171/500\n",
      "10/10 [==============================] - 1s 112ms/step - loss: 161.4404 - mae: 161.9399\n",
      "Epoch 172/500\n",
      "10/10 [==============================] - 1s 111ms/step - loss: 159.5229 - mae: 160.0223\n",
      "Epoch 173/500\n",
      "10/10 [==============================] - 1s 113ms/step - loss: 159.2376 - mae: 159.7368\n",
      "Epoch 174/500\n",
      "10/10 [==============================] - 1s 111ms/step - loss: 159.0284 - mae: 159.5279\n",
      "Epoch 175/500\n",
      "10/10 [==============================] - 1s 114ms/step - loss: 155.8051 - mae: 156.3046\n",
      "Epoch 176/500\n",
      "10/10 [==============================] - 1s 115ms/step - loss: 151.0342 - mae: 151.5336\n",
      "Epoch 177/500\n",
      "10/10 [==============================] - 1s 114ms/step - loss: 169.9606 - mae: 170.4600\n",
      "Epoch 178/500\n",
      "10/10 [==============================] - 1s 112ms/step - loss: 166.7135 - mae: 167.2130\n",
      "Epoch 179/500\n",
      "10/10 [==============================] - 1s 112ms/step - loss: 161.7416 - mae: 162.2411\n",
      "Epoch 180/500\n",
      "10/10 [==============================] - 1s 114ms/step - loss: 159.0227 - mae: 159.5221\n",
      "Epoch 181/500\n",
      "10/10 [==============================] - 1s 113ms/step - loss: 174.8146 - mae: 175.3137\n",
      "Epoch 182/500\n",
      "10/10 [==============================] - 1s 113ms/step - loss: 173.5675 - mae: 174.0670\n",
      "Epoch 183/500\n",
      "10/10 [==============================] - 1s 112ms/step - loss: 165.0160 - mae: 165.5150\n",
      "Epoch 184/500\n",
      "10/10 [==============================] - 1s 111ms/step - loss: 164.3571 - mae: 164.8568\n",
      "Epoch 185/500\n",
      "10/10 [==============================] - 1s 114ms/step - loss: 163.3172 - mae: 163.8167\n",
      "Epoch 186/500\n",
      "10/10 [==============================] - 1s 117ms/step - loss: 162.5672 - mae: 163.0666\n",
      "Epoch 187/500\n",
      "10/10 [==============================] - 1s 112ms/step - loss: 162.0254 - mae: 162.5249\n",
      "Epoch 188/500\n",
      "10/10 [==============================] - 1s 113ms/step - loss: 161.6500 - mae: 162.1492\n",
      "Epoch 189/500\n",
      "10/10 [==============================] - 1s 113ms/step - loss: 161.5414 - mae: 162.0409\n",
      "Epoch 190/500\n",
      "10/10 [==============================] - 1s 112ms/step - loss: 161.1681 - mae: 161.6677\n",
      "Epoch 191/500\n",
      "10/10 [==============================] - 1s 114ms/step - loss: 161.8726 - mae: 162.3723\n",
      "Epoch 192/500\n",
      "10/10 [==============================] - 1s 112ms/step - loss: 160.7484 - mae: 161.2476\n",
      "Epoch 193/500\n",
      "10/10 [==============================] - 1s 115ms/step - loss: 159.1700 - mae: 159.6694\n",
      "Epoch 194/500\n",
      "10/10 [==============================] - 1s 110ms/step - loss: 158.5218 - mae: 159.0213\n",
      "Epoch 195/500\n",
      "10/10 [==============================] - 1s 113ms/step - loss: 158.3823 - mae: 158.8817\n",
      "Epoch 196/500\n",
      "10/10 [==============================] - 1s 116ms/step - loss: 156.9570 - mae: 157.4564\n",
      "Epoch 197/500\n",
      "10/10 [==============================] - 1s 111ms/step - loss: 155.8496 - mae: 156.3490\n",
      "Epoch 198/500\n",
      "10/10 [==============================] - 1s 112ms/step - loss: 177.8473 - mae: 178.3469\n",
      "Epoch 199/500\n",
      "10/10 [==============================] - 1s 114ms/step - loss: 172.3203 - mae: 172.8195\n",
      "Epoch 200/500\n",
      "10/10 [==============================] - 1s 112ms/step - loss: 167.2570 - mae: 167.7567\n",
      "Epoch 201/500\n",
      "10/10 [==============================] - 1s 111ms/step - loss: 164.6869 - mae: 165.1864\n",
      "Epoch 202/500\n",
      "10/10 [==============================] - 1s 112ms/step - loss: 164.6335 - mae: 165.1327\n",
      "Epoch 203/500\n",
      "10/10 [==============================] - 1s 112ms/step - loss: 163.5806 - mae: 164.0802\n",
      "Epoch 204/500\n",
      "10/10 [==============================] - 1s 111ms/step - loss: 162.7829 - mae: 163.2824\n",
      "Epoch 205/500\n",
      "10/10 [==============================] - 1s 114ms/step - loss: 162.5861 - mae: 163.0856\n",
      "Epoch 206/500\n",
      "10/10 [==============================] - 1s 111ms/step - loss: 162.0381 - mae: 162.5376\n",
      "Epoch 207/500\n",
      "10/10 [==============================] - 1s 112ms/step - loss: 161.2765 - mae: 161.7758\n",
      "Epoch 208/500\n",
      "10/10 [==============================] - 1s 113ms/step - loss: 160.2625 - mae: 160.7619\n",
      "Epoch 209/500\n",
      "10/10 [==============================] - 1s 113ms/step - loss: 159.3329 - mae: 159.8324\n",
      "Epoch 210/500\n",
      "10/10 [==============================] - 1s 117ms/step - loss: 158.1000 - mae: 158.5994\n",
      "Epoch 211/500\n",
      "10/10 [==============================] - 1s 116ms/step - loss: 155.1632 - mae: 155.6627\n",
      "Epoch 212/500\n",
      "10/10 [==============================] - 1s 112ms/step - loss: 175.4366 - mae: 175.9357\n",
      "Epoch 213/500\n",
      "10/10 [==============================] - 1s 114ms/step - loss: 189.5093 - mae: 190.0090\n",
      "Epoch 214/500\n",
      "10/10 [==============================] - 1s 113ms/step - loss: 168.1562 - mae: 168.6554\n",
      "Epoch 215/500\n",
      "10/10 [==============================] - 1s 115ms/step - loss: 168.0713 - mae: 168.5710\n",
      "Epoch 216/500\n",
      "10/10 [==============================] - 1s 112ms/step - loss: 165.6615 - mae: 166.1607\n",
      "Epoch 217/500\n",
      "10/10 [==============================] - 1s 113ms/step - loss: 164.8752 - mae: 165.3748\n",
      "Epoch 218/500\n",
      "10/10 [==============================] - 1s 113ms/step - loss: 164.3235 - mae: 164.8231\n",
      "Epoch 219/500\n",
      "10/10 [==============================] - 1s 117ms/step - loss: 164.0712 - mae: 164.5707\n",
      "Epoch 220/500\n",
      "10/10 [==============================] - 1s 114ms/step - loss: 163.3701 - mae: 163.8695\n",
      "Epoch 221/500\n",
      "10/10 [==============================] - 1s 112ms/step - loss: 163.0800 - mae: 163.5797\n",
      "Epoch 222/500\n",
      "10/10 [==============================] - 1s 118ms/step - loss: 158.8783 - mae: 159.3775\n",
      "Epoch 223/500\n",
      "10/10 [==============================] - 1s 118ms/step - loss: 170.0357 - mae: 170.5354\n",
      "Epoch 224/500\n",
      "10/10 [==============================] - 1s 114ms/step - loss: 164.7441 - mae: 165.2433\n",
      "Epoch 225/500\n",
      "10/10 [==============================] - 1s 115ms/step - loss: 162.5996 - mae: 163.0992\n",
      "Epoch 226/500\n",
      "10/10 [==============================] - 1s 113ms/step - loss: 160.8955 - mae: 161.3950\n",
      "Epoch 227/500\n",
      "10/10 [==============================] - 1s 113ms/step - loss: 153.8420 - mae: 154.3413\n",
      "Epoch 228/500\n",
      "10/10 [==============================] - 1s 113ms/step - loss: 167.5905 - mae: 168.0900\n",
      "Epoch 229/500\n",
      "10/10 [==============================] - 1s 113ms/step - loss: 165.7107 - mae: 166.2101\n",
      "Epoch 230/500\n",
      "10/10 [==============================] - 1s 114ms/step - loss: 164.6933 - mae: 165.1927\n",
      "Epoch 231/500\n",
      "10/10 [==============================] - 1s 115ms/step - loss: 163.6899 - mae: 164.1891\n",
      "Epoch 232/500\n",
      "10/10 [==============================] - 1s 115ms/step - loss: 162.8646 - mae: 163.3640\n",
      "Epoch 233/500\n",
      "10/10 [==============================] - 1s 114ms/step - loss: 163.3101 - mae: 163.8097\n",
      "Epoch 234/500\n",
      "10/10 [==============================] - 1s 115ms/step - loss: 160.8712 - mae: 161.3704\n",
      "Epoch 235/500\n",
      "10/10 [==============================] - 1s 118ms/step - loss: 179.1922 - mae: 179.6916\n",
      "Epoch 236/500\n",
      "10/10 [==============================] - 1s 116ms/step - loss: 169.1766 - mae: 169.6762\n",
      "Epoch 237/500\n",
      "10/10 [==============================] - 1s 118ms/step - loss: 167.2855 - mae: 167.7843\n",
      "Epoch 238/500\n",
      "10/10 [==============================] - 1s 119ms/step - loss: 166.0551 - mae: 166.5545\n",
      "Epoch 239/500\n",
      "10/10 [==============================] - 1s 115ms/step - loss: 166.1279 - mae: 166.6274\n",
      "Epoch 240/500\n",
      "10/10 [==============================] - 1s 114ms/step - loss: 165.5251 - mae: 166.0243\n",
      "Epoch 241/500\n",
      "10/10 [==============================] - 1s 115ms/step - loss: 165.3253 - mae: 165.8244\n",
      "Epoch 242/500\n",
      "10/10 [==============================] - 1s 119ms/step - loss: 165.0832 - mae: 165.5818\n",
      "Epoch 243/500\n",
      "10/10 [==============================] - 1s 118ms/step - loss: 164.6548 - mae: 165.1535\n",
      "Epoch 244/500\n",
      "10/10 [==============================] - 1s 118ms/step - loss: 165.4025 - mae: 165.9021\n",
      "Epoch 245/500\n",
      "10/10 [==============================] - 1s 117ms/step - loss: 164.9057 - mae: 165.4051\n",
      "Epoch 246/500\n",
      "10/10 [==============================] - 1s 118ms/step - loss: 164.7828 - mae: 165.2818\n",
      "Epoch 247/500\n",
      "10/10 [==============================] - 1s 115ms/step - loss: 164.6332 - mae: 165.1327\n",
      "Epoch 248/500\n",
      "10/10 [==============================] - 1s 114ms/step - loss: 164.3532 - mae: 164.8525\n",
      "Epoch 249/500\n",
      "10/10 [==============================] - 1s 114ms/step - loss: 163.9049 - mae: 164.4040\n",
      "Epoch 250/500\n",
      "10/10 [==============================] - 1s 112ms/step - loss: 163.1996 - mae: 163.6988\n",
      "Epoch 251/500\n",
      "10/10 [==============================] - 1s 113ms/step - loss: 162.8953 - mae: 163.3945\n",
      "Epoch 252/500\n",
      "10/10 [==============================] - 1s 114ms/step - loss: 162.7319 - mae: 163.2312\n",
      "Epoch 253/500\n",
      "10/10 [==============================] - 1s 114ms/step - loss: 162.4138 - mae: 162.9132\n",
      "Epoch 254/500\n",
      "10/10 [==============================] - 1s 116ms/step - loss: 162.5255 - mae: 163.0251\n",
      "Epoch 255/500\n",
      "10/10 [==============================] - 1s 113ms/step - loss: 164.0931 - mae: 164.5926\n",
      "Epoch 256/500\n",
      "10/10 [==============================] - 1s 116ms/step - loss: 163.4025 - mae: 163.9015\n",
      "Epoch 257/500\n",
      "10/10 [==============================] - 1s 114ms/step - loss: 161.7443 - mae: 162.2438\n",
      "Epoch 258/500\n",
      "10/10 [==============================] - 1s 113ms/step - loss: 161.1355 - mae: 161.6351\n",
      "Epoch 259/500\n",
      "10/10 [==============================] - 1s 117ms/step - loss: 160.2737 - mae: 160.7733\n",
      "Epoch 260/500\n",
      "10/10 [==============================] - 1s 114ms/step - loss: 159.6088 - mae: 160.1085\n",
      "Epoch 261/500\n",
      "10/10 [==============================] - 1s 115ms/step - loss: 159.9373 - mae: 160.4364\n",
      "Epoch 262/500\n",
      "10/10 [==============================] - 1s 115ms/step - loss: 160.4699 - mae: 160.9694\n",
      "Epoch 263/500\n",
      "10/10 [==============================] - 1s 116ms/step - loss: 158.5233 - mae: 159.0225\n",
      "Epoch 264/500\n",
      "10/10 [==============================] - 1s 118ms/step - loss: 155.9192 - mae: 156.4185\n",
      "Epoch 265/500\n",
      "10/10 [==============================] - 1s 114ms/step - loss: 152.9254 - mae: 153.4247\n",
      "Epoch 266/500\n",
      "10/10 [==============================] - 1s 121ms/step - loss: 160.2763 - mae: 160.7757\n",
      "Epoch 267/500\n",
      "10/10 [==============================] - 1s 119ms/step - loss: 160.2099 - mae: 160.7094\n",
      "Epoch 268/500\n",
      "10/10 [==============================] - 1s 114ms/step - loss: 162.6263 - mae: 163.1258\n",
      "Epoch 269/500\n",
      "10/10 [==============================] - 1s 117ms/step - loss: 237.7985 - mae: 238.2978\n",
      "Epoch 270/500\n",
      "10/10 [==============================] - 1s 117ms/step - loss: 169.6934 - mae: 170.1930\n",
      "Epoch 271/500\n",
      "10/10 [==============================] - 1s 116ms/step - loss: 173.1073 - mae: 173.6071\n",
      "Epoch 272/500\n",
      "10/10 [==============================] - 1s 115ms/step - loss: 167.2527 - mae: 167.7522\n",
      "Epoch 273/500\n",
      "10/10 [==============================] - 1s 114ms/step - loss: 167.1647 - mae: 167.6640\n",
      "Epoch 274/500\n",
      "10/10 [==============================] - 1s 116ms/step - loss: 166.2123 - mae: 166.7115\n",
      "Epoch 275/500\n",
      "10/10 [==============================] - 1s 115ms/step - loss: 166.3753 - mae: 166.8745\n",
      "Epoch 276/500\n",
      "10/10 [==============================] - 1s 116ms/step - loss: 166.0192 - mae: 166.5189\n",
      "Epoch 277/500\n",
      "10/10 [==============================] - 1s 116ms/step - loss: 165.5219 - mae: 166.0212\n",
      "Epoch 278/500\n",
      "10/10 [==============================] - 1s 117ms/step - loss: 167.1140 - mae: 167.6136\n",
      "Epoch 279/500\n",
      "10/10 [==============================] - 1s 114ms/step - loss: 166.6796 - mae: 167.1789\n",
      "Epoch 280/500\n",
      "10/10 [==============================] - 1s 117ms/step - loss: 166.8909 - mae: 167.3901\n",
      "Epoch 281/500\n",
      "10/10 [==============================] - 1s 114ms/step - loss: 166.6923 - mae: 167.1913\n",
      "Epoch 282/500\n",
      "10/10 [==============================] - 1s 114ms/step - loss: 166.7234 - mae: 167.2228\n",
      "Epoch 283/500\n",
      "10/10 [==============================] - 1s 120ms/step - loss: 166.4920 - mae: 166.9912\n",
      "Epoch 284/500\n",
      "10/10 [==============================] - 1s 119ms/step - loss: 166.5616 - mae: 167.0609\n",
      "Epoch 285/500\n",
      "10/10 [==============================] - 1s 113ms/step - loss: 166.4728 - mae: 166.9721\n",
      "Epoch 286/500\n",
      "10/10 [==============================] - 1s 116ms/step - loss: 166.2845 - mae: 166.7838\n",
      "Epoch 287/500\n",
      "10/10 [==============================] - 1s 113ms/step - loss: 166.8683 - mae: 167.3680\n",
      "Epoch 288/500\n",
      "10/10 [==============================] - 1s 114ms/step - loss: 166.5250 - mae: 167.0244\n",
      "Epoch 289/500\n",
      "10/10 [==============================] - 1s 115ms/step - loss: 166.4362 - mae: 166.9357\n",
      "Epoch 290/500\n",
      "10/10 [==============================] - 1s 117ms/step - loss: 166.3115 - mae: 166.8113\n",
      "Epoch 291/500\n",
      "10/10 [==============================] - 1s 112ms/step - loss: 166.4658 - mae: 166.9653\n",
      "Epoch 292/500\n",
      "10/10 [==============================] - 1s 114ms/step - loss: 166.1462 - mae: 166.6457\n",
      "Epoch 293/500\n",
      "10/10 [==============================] - 1s 116ms/step - loss: 166.3036 - mae: 166.8031\n",
      "Epoch 294/500\n",
      "10/10 [==============================] - 1s 113ms/step - loss: 166.0234 - mae: 166.5228\n",
      "Epoch 295/500\n",
      "10/10 [==============================] - 1s 124ms/step - loss: 165.9378 - mae: 166.4373\n",
      "Epoch 296/500\n",
      "10/10 [==============================] - 1s 118ms/step - loss: 166.0817 - mae: 166.5811\n",
      "Epoch 297/500\n",
      "10/10 [==============================] - 1s 116ms/step - loss: 165.6827 - mae: 166.1822\n",
      "Epoch 298/500\n",
      "10/10 [==============================] - 1s 118ms/step - loss: 165.9332 - mae: 166.4325\n",
      "Epoch 299/500\n",
      "10/10 [==============================] - 1s 117ms/step - loss: 166.0204 - mae: 166.5200\n",
      "Epoch 300/500\n",
      "10/10 [==============================] - 1s 120ms/step - loss: 165.5510 - mae: 166.0505\n",
      "Epoch 301/500\n",
      "10/10 [==============================] - 1s 115ms/step - loss: 166.1237 - mae: 166.6232\n",
      "Epoch 302/500\n",
      "10/10 [==============================] - 1s 119ms/step - loss: 165.5961 - mae: 166.0953\n",
      "Epoch 303/500\n",
      "10/10 [==============================] - 1s 115ms/step - loss: 165.5632 - mae: 166.0626\n",
      "Epoch 304/500\n",
      "10/10 [==============================] - 1s 115ms/step - loss: 165.4306 - mae: 165.9296\n",
      "Epoch 305/500\n",
      "10/10 [==============================] - 1s 115ms/step - loss: 165.3852 - mae: 165.8843\n",
      "Epoch 306/500\n",
      "10/10 [==============================] - 1s 114ms/step - loss: 165.5831 - mae: 166.0827\n",
      "Epoch 307/500\n",
      "10/10 [==============================] - 1s 113ms/step - loss: 165.2686 - mae: 165.7681\n",
      "Epoch 308/500\n",
      "10/10 [==============================] - 1s 114ms/step - loss: 165.3129 - mae: 165.8123\n",
      "Epoch 309/500\n",
      "10/10 [==============================] - 1s 118ms/step - loss: 165.3076 - mae: 165.8070\n",
      "Epoch 310/500\n",
      "10/10 [==============================] - 1s 114ms/step - loss: 165.2641 - mae: 165.7637\n",
      "Epoch 311/500\n",
      "10/10 [==============================] - 1s 117ms/step - loss: 164.9792 - mae: 165.4786\n",
      "Epoch 312/500\n",
      "10/10 [==============================] - 1s 113ms/step - loss: 165.5753 - mae: 166.0748\n",
      "Epoch 313/500\n",
      "10/10 [==============================] - 1s 111ms/step - loss: 164.8273 - mae: 165.3269\n",
      "Epoch 314/500\n",
      "10/10 [==============================] - 1s 115ms/step - loss: 165.2513 - mae: 165.7510\n",
      "Epoch 315/500\n",
      "10/10 [==============================] - 1s 112ms/step - loss: 164.4699 - mae: 164.9692\n",
      "Epoch 316/500\n",
      "10/10 [==============================] - 1s 117ms/step - loss: 164.9388 - mae: 165.4385\n",
      "Epoch 317/500\n",
      "10/10 [==============================] - 1s 112ms/step - loss: 164.4177 - mae: 164.9172\n",
      "Epoch 318/500\n",
      "10/10 [==============================] - 1s 116ms/step - loss: 164.4838 - mae: 164.9830\n",
      "Epoch 319/500\n",
      "10/10 [==============================] - 1s 113ms/step - loss: 164.4825 - mae: 164.9820\n",
      "Epoch 320/500\n",
      "10/10 [==============================] - 1s 116ms/step - loss: 164.2999 - mae: 164.7994\n",
      "Epoch 321/500\n",
      "10/10 [==============================] - 1s 112ms/step - loss: 164.5726 - mae: 165.0720\n",
      "Epoch 322/500\n",
      "10/10 [==============================] - 1s 112ms/step - loss: 164.1103 - mae: 164.6097\n",
      "Epoch 323/500\n",
      "10/10 [==============================] - 1s 113ms/step - loss: 164.2311 - mae: 164.7307\n",
      "Epoch 324/500\n",
      "10/10 [==============================] - 1s 117ms/step - loss: 163.8516 - mae: 164.3509\n",
      "Epoch 325/500\n",
      "10/10 [==============================] - 1s 114ms/step - loss: 163.7653 - mae: 164.2648\n",
      "Epoch 326/500\n",
      "10/10 [==============================] - 1s 112ms/step - loss: 163.4129 - mae: 163.9120\n",
      "Epoch 327/500\n",
      "10/10 [==============================] - 1s 114ms/step - loss: 163.3127 - mae: 163.8121\n",
      "Epoch 328/500\n",
      "10/10 [==============================] - 1s 113ms/step - loss: 162.6647 - mae: 163.1640\n",
      "Epoch 329/500\n",
      "10/10 [==============================] - 1s 113ms/step - loss: 164.9758 - mae: 165.4753\n",
      "Epoch 330/500\n",
      "10/10 [==============================] - 1s 114ms/step - loss: 164.2891 - mae: 164.7882\n",
      "Epoch 331/500\n",
      "10/10 [==============================] - 1s 119ms/step - loss: 163.2887 - mae: 163.7882\n",
      "Epoch 332/500\n",
      "10/10 [==============================] - 1s 112ms/step - loss: 164.0203 - mae: 164.5195\n",
      "Epoch 333/500\n",
      "10/10 [==============================] - 1s 117ms/step - loss: 163.8842 - mae: 164.3839\n",
      "Epoch 334/500\n",
      "10/10 [==============================] - 1s 123ms/step - loss: 163.2576 - mae: 163.7565\n",
      "Epoch 335/500\n",
      "10/10 [==============================] - 1s 116ms/step - loss: 163.1507 - mae: 163.6502\n",
      "Epoch 336/500\n",
      "10/10 [==============================] - 1s 116ms/step - loss: 163.4191 - mae: 163.9184\n",
      "Epoch 337/500\n",
      "10/10 [==============================] - 1s 117ms/step - loss: 163.6878 - mae: 164.1870\n",
      "Epoch 338/500\n",
      "10/10 [==============================] - 1s 112ms/step - loss: 167.1068 - mae: 167.6066\n",
      "Epoch 339/500\n",
      "10/10 [==============================] - 1s 112ms/step - loss: 161.8050 - mae: 162.3045\n",
      "Epoch 340/500\n",
      "10/10 [==============================] - 1s 112ms/step - loss: 162.1908 - mae: 162.6903\n",
      "Epoch 341/500\n",
      "10/10 [==============================] - 1s 113ms/step - loss: 161.9841 - mae: 162.4834\n",
      "Epoch 342/500\n",
      "10/10 [==============================] - 1s 115ms/step - loss: 160.4338 - mae: 160.9331\n",
      "Epoch 343/500\n",
      "10/10 [==============================] - 1s 114ms/step - loss: 158.9489 - mae: 159.4482\n",
      "Epoch 344/500\n",
      "10/10 [==============================] - 1s 112ms/step - loss: 160.2633 - mae: 160.7629\n",
      "Epoch 345/500\n",
      "10/10 [==============================] - 1s 117ms/step - loss: 156.7191 - mae: 157.2185\n",
      "Epoch 346/500\n",
      "10/10 [==============================] - 1s 117ms/step - loss: 151.9214 - mae: 152.4206\n",
      "Epoch 347/500\n",
      "10/10 [==============================] - 1s 117ms/step - loss: 156.5007 - mae: 157.0000\n",
      "Epoch 348/500\n",
      "10/10 [==============================] - 1s 112ms/step - loss: 181.5970 - mae: 182.0965\n",
      "Epoch 349/500\n",
      "10/10 [==============================] - 1s 115ms/step - loss: 167.6557 - mae: 168.1553\n",
      "Epoch 350/500\n",
      "10/10 [==============================] - 1s 116ms/step - loss: 167.2681 - mae: 167.7674\n",
      "Epoch 351/500\n",
      "10/10 [==============================] - 1s 119ms/step - loss: 164.3035 - mae: 164.8030\n",
      "Epoch 352/500\n",
      "10/10 [==============================] - 1s 117ms/step - loss: 162.9485 - mae: 163.4478\n",
      "Epoch 353/500\n",
      "10/10 [==============================] - 1s 112ms/step - loss: 168.8268 - mae: 169.3262\n",
      "Epoch 354/500\n",
      "10/10 [==============================] - 1s 111ms/step - loss: 167.2443 - mae: 167.7439\n",
      "Epoch 355/500\n",
      "10/10 [==============================] - 1s 113ms/step - loss: 162.7411 - mae: 163.2406\n",
      "Epoch 356/500\n",
      "10/10 [==============================] - 1s 118ms/step - loss: 164.4828 - mae: 164.9823\n",
      "Epoch 357/500\n",
      "10/10 [==============================] - 1s 113ms/step - loss: 162.9666 - mae: 163.4659\n",
      "Epoch 358/500\n",
      "10/10 [==============================] - 1s 112ms/step - loss: 157.3664 - mae: 157.8655\n",
      "Epoch 359/500\n",
      "10/10 [==============================] - 1s 113ms/step - loss: 164.1090 - mae: 164.6086\n",
      "Epoch 360/500\n",
      "10/10 [==============================] - 1s 114ms/step - loss: 167.4131 - mae: 167.9127\n",
      "Epoch 361/500\n",
      "10/10 [==============================] - 1s 113ms/step - loss: 164.1760 - mae: 164.6753\n",
      "Epoch 362/500\n",
      "10/10 [==============================] - 1s 116ms/step - loss: 161.0147 - mae: 161.5141\n",
      "Epoch 363/500\n",
      "10/10 [==============================] - 1s 114ms/step - loss: 153.6899 - mae: 154.1892\n",
      "Epoch 364/500\n",
      "10/10 [==============================] - 1s 115ms/step - loss: 174.1266 - mae: 174.6262\n",
      "Epoch 365/500\n",
      "10/10 [==============================] - 1s 114ms/step - loss: 165.8128 - mae: 166.3121\n",
      "Epoch 366/500\n",
      "10/10 [==============================] - 1s 112ms/step - loss: 165.4341 - mae: 165.9335\n",
      "Epoch 367/500\n",
      "10/10 [==============================] - 1s 114ms/step - loss: 163.1860 - mae: 163.6856\n",
      "Epoch 368/500\n",
      "10/10 [==============================] - 1s 116ms/step - loss: 162.2421 - mae: 162.7416\n",
      "Epoch 369/500\n",
      "10/10 [==============================] - 1s 113ms/step - loss: 159.0473 - mae: 159.5464\n",
      "Epoch 370/500\n",
      "10/10 [==============================] - 1s 115ms/step - loss: 154.3237 - mae: 154.8232\n",
      "Epoch 371/500\n",
      "10/10 [==============================] - 1s 114ms/step - loss: 164.5933 - mae: 165.0927\n",
      "Epoch 372/500\n",
      "10/10 [==============================] - 1s 115ms/step - loss: 166.1146 - mae: 166.6139\n",
      "Epoch 373/500\n",
      "10/10 [==============================] - 1s 114ms/step - loss: 164.0314 - mae: 164.5309\n",
      "Epoch 374/500\n",
      "10/10 [==============================] - 1s 113ms/step - loss: 164.6240 - mae: 165.1235\n",
      "Epoch 375/500\n",
      "10/10 [==============================] - 1s 116ms/step - loss: 162.8859 - mae: 163.3854\n",
      "Epoch 376/500\n",
      "10/10 [==============================] - 1s 114ms/step - loss: 160.5320 - mae: 161.0314\n",
      "Epoch 377/500\n",
      "10/10 [==============================] - 1s 113ms/step - loss: 157.7702 - mae: 158.2695\n",
      "Epoch 378/500\n",
      "10/10 [==============================] - 1s 115ms/step - loss: 162.5930 - mae: 163.0923\n",
      "Epoch 379/500\n",
      "10/10 [==============================] - 1s 114ms/step - loss: 226.4400 - mae: 226.9384\n",
      "Epoch 380/500\n",
      "10/10 [==============================] - 1s 117ms/step - loss: 195.9468 - mae: 196.4454\n",
      "Epoch 381/500\n",
      "10/10 [==============================] - 1s 115ms/step - loss: 178.0396 - mae: 178.5390\n",
      "Epoch 382/500\n",
      "10/10 [==============================] - 1s 112ms/step - loss: 169.8360 - mae: 170.3345\n",
      "Epoch 383/500\n",
      "10/10 [==============================] - 1s 116ms/step - loss: 168.2211 - mae: 168.7207\n",
      "Epoch 384/500\n",
      "10/10 [==============================] - 1s 112ms/step - loss: 168.0240 - mae: 168.5239\n",
      "Epoch 385/500\n",
      "10/10 [==============================] - 1s 112ms/step - loss: 167.9724 - mae: 168.4717\n",
      "Epoch 386/500\n",
      "10/10 [==============================] - 1s 118ms/step - loss: 167.9421 - mae: 168.4412\n",
      "Epoch 387/500\n",
      "10/10 [==============================] - 1s 111ms/step - loss: 167.9763 - mae: 168.4747\n",
      "Epoch 388/500\n",
      "10/10 [==============================] - 1s 115ms/step - loss: 167.9656 - mae: 168.4640\n",
      "Epoch 389/500\n",
      "10/10 [==============================] - 1s 116ms/step - loss: 167.9514 - mae: 168.4494\n",
      "Epoch 390/500\n",
      "10/10 [==============================] - 1s 118ms/step - loss: 167.9474 - mae: 168.4461\n",
      "Epoch 391/500\n",
      "10/10 [==============================] - 1s 114ms/step - loss: 167.9460 - mae: 168.4453\n",
      "Epoch 392/500\n",
      "10/10 [==============================] - 1s 117ms/step - loss: 167.9499 - mae: 168.4488\n",
      "Epoch 393/500\n",
      "10/10 [==============================] - 1s 120ms/step - loss: 167.9513 - mae: 168.4498\n",
      "Epoch 394/500\n",
      "10/10 [==============================] - 1s 116ms/step - loss: 167.9526 - mae: 168.4519\n",
      "Epoch 395/500\n",
      "10/10 [==============================] - 1s 115ms/step - loss: 167.9574 - mae: 168.4565\n",
      "Epoch 396/500\n",
      "10/10 [==============================] - 1s 114ms/step - loss: 167.9496 - mae: 168.4483\n",
      "Epoch 397/500\n",
      "10/10 [==============================] - 1s 114ms/step - loss: 167.9459 - mae: 168.4437\n",
      "Epoch 398/500\n",
      "10/10 [==============================] - 1s 115ms/step - loss: 167.9448 - mae: 168.4427\n",
      "Epoch 399/500\n",
      "10/10 [==============================] - 1s 118ms/step - loss: 167.9630 - mae: 168.4618\n",
      "Epoch 400/500\n",
      "10/10 [==============================] - 1s 115ms/step - loss: 167.9505 - mae: 168.4497\n",
      "Epoch 401/500\n",
      "10/10 [==============================] - 1s 111ms/step - loss: 167.9466 - mae: 168.4451\n",
      "Epoch 402/500\n",
      "10/10 [==============================] - 1s 115ms/step - loss: 167.9452 - mae: 168.4434\n",
      "Epoch 403/500\n",
      "10/10 [==============================] - 1s 115ms/step - loss: 167.9452 - mae: 168.4441\n",
      "Epoch 404/500\n",
      "10/10 [==============================] - 1s 114ms/step - loss: 167.9428 - mae: 168.4421\n",
      "Epoch 405/500\n",
      "10/10 [==============================] - 1s 114ms/step - loss: 167.9416 - mae: 168.4409\n",
      "Epoch 406/500\n",
      "10/10 [==============================] - 1s 112ms/step - loss: 167.9423 - mae: 168.4414\n",
      "Epoch 407/500\n",
      "10/10 [==============================] - 1s 117ms/step - loss: 167.9456 - mae: 168.4444\n",
      "Epoch 408/500\n",
      "10/10 [==============================] - 1s 114ms/step - loss: 167.9445 - mae: 168.4426\n",
      "Epoch 409/500\n",
      "10/10 [==============================] - 1s 114ms/step - loss: 167.9497 - mae: 168.4478\n",
      "Epoch 410/500\n",
      "10/10 [==============================] - 1s 113ms/step - loss: 167.9462 - mae: 168.4443\n",
      "Epoch 411/500\n",
      "10/10 [==============================] - 1s 119ms/step - loss: 167.9401 - mae: 168.4388\n",
      "Epoch 412/500\n",
      "10/10 [==============================] - 1s 115ms/step - loss: 167.9414 - mae: 168.4395\n",
      "Epoch 413/500\n",
      "10/10 [==============================] - 1s 113ms/step - loss: 167.9398 - mae: 168.4389\n",
      "Epoch 414/500\n",
      "10/10 [==============================] - 1s 116ms/step - loss: 167.9554 - mae: 168.4541\n",
      "Epoch 415/500\n",
      "10/10 [==============================] - 1s 115ms/step - loss: 167.9463 - mae: 168.4454\n",
      "Epoch 416/500\n",
      "10/10 [==============================] - 1s 116ms/step - loss: 167.9466 - mae: 168.4452\n",
      "Epoch 417/500\n",
      "10/10 [==============================] - 1s 114ms/step - loss: 167.9400 - mae: 168.4378\n",
      "Epoch 418/500\n",
      "10/10 [==============================] - 1s 114ms/step - loss: 167.9622 - mae: 168.4603\n",
      "Epoch 419/500\n",
      "10/10 [==============================] - 1s 114ms/step - loss: 167.9514 - mae: 168.4494\n",
      "Epoch 420/500\n",
      "10/10 [==============================] - 1s 113ms/step - loss: 167.9317 - mae: 168.4304\n",
      "Epoch 421/500\n",
      "10/10 [==============================] - 1s 114ms/step - loss: 167.9573 - mae: 168.4569\n",
      "Epoch 422/500\n",
      "10/10 [==============================] - 1s 115ms/step - loss: 167.9602 - mae: 168.4598\n",
      "Epoch 423/500\n",
      "10/10 [==============================] - 1s 115ms/step - loss: 167.9470 - mae: 168.4465\n",
      "Epoch 424/500\n",
      "10/10 [==============================] - 1s 114ms/step - loss: 167.9415 - mae: 168.4401\n",
      "Epoch 425/500\n",
      "10/10 [==============================] - 1s 113ms/step - loss: 167.9413 - mae: 168.4403\n",
      "Epoch 426/500\n",
      "10/10 [==============================] - 1s 115ms/step - loss: 167.9445 - mae: 168.4427\n",
      "Epoch 427/500\n",
      "10/10 [==============================] - 1s 115ms/step - loss: 167.9382 - mae: 168.4363\n",
      "Epoch 428/500\n",
      "10/10 [==============================] - 1s 113ms/step - loss: 167.9419 - mae: 168.4406\n",
      "Epoch 429/500\n",
      "10/10 [==============================] - 1s 118ms/step - loss: 167.9472 - mae: 168.4454\n",
      "Epoch 430/500\n",
      "10/10 [==============================] - 1s 114ms/step - loss: 167.9406 - mae: 168.4393\n",
      "Epoch 431/500\n",
      "10/10 [==============================] - 1s 115ms/step - loss: 167.9361 - mae: 168.4352\n",
      "Epoch 432/500\n",
      "10/10 [==============================] - 1s 113ms/step - loss: 167.9431 - mae: 168.4418\n",
      "Epoch 433/500\n",
      "10/10 [==============================] - 1s 115ms/step - loss: 167.9431 - mae: 168.4421\n",
      "Epoch 434/500\n",
      "10/10 [==============================] - 1s 114ms/step - loss: 167.9532 - mae: 168.4518\n",
      "Epoch 435/500\n",
      "10/10 [==============================] - 1s 118ms/step - loss: 167.9540 - mae: 168.4529\n",
      "Epoch 436/500\n",
      "10/10 [==============================] - 1s 114ms/step - loss: 167.9431 - mae: 168.4422\n",
      "Epoch 437/500\n",
      "10/10 [==============================] - 1s 116ms/step - loss: 167.9346 - mae: 168.4333\n",
      "Epoch 438/500\n",
      "10/10 [==============================] - 1s 115ms/step - loss: 167.9547 - mae: 168.4533\n",
      "Epoch 439/500\n",
      "10/10 [==============================] - 1s 114ms/step - loss: 167.9466 - mae: 168.4447\n",
      "Epoch 440/500\n",
      "10/10 [==============================] - 1s 116ms/step - loss: 167.9731 - mae: 168.4715\n",
      "Epoch 441/500\n",
      "10/10 [==============================] - 1s 113ms/step - loss: 167.9783 - mae: 168.4767\n",
      "Epoch 442/500\n",
      "10/10 [==============================] - 1s 114ms/step - loss: 167.9487 - mae: 168.4478\n",
      "Epoch 443/500\n",
      "10/10 [==============================] - 1s 113ms/step - loss: 167.9582 - mae: 168.4568\n",
      "Epoch 444/500\n",
      "10/10 [==============================] - 1s 116ms/step - loss: 167.9562 - mae: 168.4553\n",
      "Epoch 445/500\n",
      "10/10 [==============================] - 1s 114ms/step - loss: 167.9359 - mae: 168.4352\n",
      "Epoch 446/500\n",
      "10/10 [==============================] - 1s 115ms/step - loss: 167.9352 - mae: 168.4341\n",
      "Epoch 447/500\n",
      "10/10 [==============================] - 1s 116ms/step - loss: 167.9473 - mae: 168.4451\n",
      "Epoch 448/500\n",
      "10/10 [==============================] - 1s 119ms/step - loss: 167.9374 - mae: 168.4350\n",
      "Epoch 449/500\n",
      "10/10 [==============================] - 1s 119ms/step - loss: 167.9420 - mae: 168.4408\n",
      "Epoch 450/500\n",
      "10/10 [==============================] - 1s 113ms/step - loss: 167.9509 - mae: 168.4497\n",
      "Epoch 451/500\n",
      "10/10 [==============================] - 1s 115ms/step - loss: 167.9495 - mae: 168.4487\n",
      "Epoch 452/500\n",
      "10/10 [==============================] - 1s 114ms/step - loss: 167.9362 - mae: 168.4350\n",
      "Epoch 453/500\n",
      "10/10 [==============================] - 1s 114ms/step - loss: 167.9327 - mae: 168.4321\n",
      "Epoch 454/500\n",
      "10/10 [==============================] - 1s 112ms/step - loss: 167.9337 - mae: 168.4326\n",
      "Epoch 455/500\n",
      "10/10 [==============================] - 1s 112ms/step - loss: 167.9400 - mae: 168.4379\n",
      "Epoch 456/500\n",
      "10/10 [==============================] - 1s 115ms/step - loss: 167.9388 - mae: 168.4365\n",
      "Epoch 457/500\n",
      "10/10 [==============================] - 1s 113ms/step - loss: 167.9472 - mae: 168.4457\n",
      "Epoch 458/500\n",
      "10/10 [==============================] - 1s 115ms/step - loss: 167.9330 - mae: 168.4317\n",
      "Epoch 459/500\n",
      "10/10 [==============================] - 1s 115ms/step - loss: 167.9561 - mae: 168.4545\n",
      "Epoch 460/500\n",
      "10/10 [==============================] - 1s 117ms/step - loss: 167.9400 - mae: 168.4375\n",
      "Epoch 461/500\n",
      "10/10 [==============================] - 1s 116ms/step - loss: 167.9634 - mae: 168.4623\n",
      "Epoch 462/500\n",
      "10/10 [==============================] - 1s 118ms/step - loss: 167.9450 - mae: 168.4436\n",
      "Epoch 463/500\n",
      "10/10 [==============================] - 1s 116ms/step - loss: 167.9402 - mae: 168.4378\n",
      "Epoch 464/500\n",
      "10/10 [==============================] - 1s 114ms/step - loss: 167.9394 - mae: 168.4370\n",
      "Epoch 465/500\n",
      "10/10 [==============================] - 1s 111ms/step - loss: 167.9404 - mae: 168.4383\n",
      "Epoch 466/500\n",
      "10/10 [==============================] - 1s 118ms/step - loss: 167.9360 - mae: 168.4347\n",
      "Epoch 467/500\n",
      "10/10 [==============================] - 1s 113ms/step - loss: 167.9430 - mae: 168.4423\n",
      "Epoch 468/500\n",
      "10/10 [==============================] - 1s 114ms/step - loss: 167.9345 - mae: 168.4338\n",
      "Epoch 469/500\n",
      "10/10 [==============================] - 1s 115ms/step - loss: 167.9351 - mae: 168.4344\n",
      "Epoch 470/500\n",
      "10/10 [==============================] - 1s 117ms/step - loss: 167.9386 - mae: 168.4377\n",
      "Epoch 471/500\n",
      "10/10 [==============================] - 1s 117ms/step - loss: 167.9328 - mae: 168.4319\n",
      "Epoch 472/500\n",
      "10/10 [==============================] - 1s 115ms/step - loss: 167.9434 - mae: 168.4423\n",
      "Epoch 473/500\n",
      "10/10 [==============================] - 1s 117ms/step - loss: 167.9335 - mae: 168.4327\n",
      "Epoch 474/500\n",
      "10/10 [==============================] - 1s 115ms/step - loss: 167.9390 - mae: 168.4375\n",
      "Epoch 475/500\n",
      "10/10 [==============================] - 1s 115ms/step - loss: 167.9420 - mae: 168.4406\n",
      "Epoch 476/500\n",
      "10/10 [==============================] - 1s 114ms/step - loss: 167.9275 - mae: 168.4265\n",
      "Epoch 477/500\n",
      "10/10 [==============================] - 1s 120ms/step - loss: 167.9795 - mae: 168.4781\n",
      "Epoch 478/500\n",
      "10/10 [==============================] - 1s 118ms/step - loss: 167.9433 - mae: 168.4415\n",
      "Epoch 479/500\n",
      "10/10 [==============================] - 1s 115ms/step - loss: 167.9337 - mae: 168.4325\n",
      "Epoch 480/500\n",
      "10/10 [==============================] - 1s 118ms/step - loss: 167.9381 - mae: 168.4373\n",
      "Epoch 481/500\n",
      "10/10 [==============================] - 1s 115ms/step - loss: 167.9357 - mae: 168.4339\n",
      "Epoch 482/500\n",
      "10/10 [==============================] - 1s 113ms/step - loss: 167.9349 - mae: 168.4324\n",
      "Epoch 483/500\n",
      "10/10 [==============================] - 1s 116ms/step - loss: 167.9309 - mae: 168.4287\n",
      "Epoch 484/500\n",
      "10/10 [==============================] - 1s 119ms/step - loss: 167.9470 - mae: 168.4458\n",
      "Epoch 485/500\n",
      "10/10 [==============================] - 1s 117ms/step - loss: 167.9317 - mae: 168.4304\n",
      "Epoch 486/500\n",
      "10/10 [==============================] - 1s 114ms/step - loss: 167.9286 - mae: 168.4279\n",
      "Epoch 487/500\n",
      "10/10 [==============================] - 1s 115ms/step - loss: 167.9475 - mae: 168.4454\n",
      "Epoch 488/500\n",
      "10/10 [==============================] - 1s 114ms/step - loss: 167.9476 - mae: 168.4453\n",
      "Epoch 489/500\n",
      "10/10 [==============================] - 1s 116ms/step - loss: 167.9554 - mae: 168.4541\n",
      "Epoch 490/500\n",
      "10/10 [==============================] - 1s 114ms/step - loss: 167.9377 - mae: 168.4363\n",
      "Epoch 491/500\n",
      "10/10 [==============================] - 1s 113ms/step - loss: 167.9545 - mae: 168.4530\n",
      "Epoch 492/500\n",
      "10/10 [==============================] - 1s 118ms/step - loss: 167.9482 - mae: 168.4472\n",
      "Epoch 493/500\n",
      "10/10 [==============================] - 1s 114ms/step - loss: 167.9419 - mae: 168.4405\n",
      "Epoch 494/500\n",
      "10/10 [==============================] - 1s 114ms/step - loss: 167.9361 - mae: 168.4347\n",
      "Epoch 495/500\n",
      "10/10 [==============================] - 1s 115ms/step - loss: 167.9397 - mae: 168.4385\n",
      "Epoch 496/500\n",
      "10/10 [==============================] - 1s 116ms/step - loss: 167.9270 - mae: 168.4260\n",
      "Epoch 497/500\n",
      "10/10 [==============================] - 1s 116ms/step - loss: 167.9328 - mae: 168.4309\n",
      "Epoch 498/500\n",
      "10/10 [==============================] - 1s 114ms/step - loss: 167.9624 - mae: 168.4610\n",
      "Epoch 499/500\n",
      "10/10 [==============================] - 1s 114ms/step - loss: 167.9410 - mae: 168.4393\n",
      "Epoch 500/500\n",
      "10/10 [==============================] - 1s 117ms/step - loss: 167.9384 - mae: 168.4370\n"
     ]
    }
   ],
   "source": [
    "tf.keras.backend.clear_session()\n",
    "tf.random.set_seed(51)\n",
    "np.random.seed(51)\n",
    "train_set = windowed_dataset(x_train, window_size=60, batch_size=100, shuffle_buffer=shuffle_buffer_size)\n",
    "model = tf.keras.models.Sequential([\n",
    "  tf.keras.layers.Conv1D(filters=60, kernel_size=5,\n",
    "                      strides=1, padding=\"causal\",\n",
    "                      activation=\"relu\",\n",
    "                      input_shape=[None, 1]),\n",
    "  tf.keras.layers.LSTM(60, return_sequences=True),\n",
    "  tf.keras.layers.LSTM(60, return_sequences=True),\n",
    "  tf.keras.layers.Dense(30, activation=\"relu\"),\n",
    "  tf.keras.layers.Dense(10, activation=\"relu\"),\n",
    "  tf.keras.layers.Dense(1),\n",
    "  tf.keras.layers.Lambda(lambda x: x * 400)\n",
    "])\n",
    "\n",
    "\n",
    "optimizer = tf.keras.optimizers.SGD(lr=1e-6, momentum=0.9)\n",
    "model.compile(loss=tf.keras.losses.Huber(),\n",
    "              optimizer=optimizer,\n",
    "              metrics=[\"mae\"])\n",
    "history = model.fit(train_set,epochs=500,verbose=0)"
   ]
  },
  {
   "cell_type": "code",
   "execution_count": 0,
   "metadata": {
    "colab": {},
    "colab_type": "code",
    "id": "ZYKntpm9P-lP"
   },
   "outputs": [],
   "source": [
    "rnn_forecast = model_forecast(model, series[..., np.newaxis], window_size)\n",
    "rnn_forecast = rnn_forecast[split_time - window_size:-1, -1, 0]"
   ]
  },
  {
   "cell_type": "code",
   "execution_count": 64,
   "metadata": {
    "colab": {
     "base_uri": "https://localhost:8080/",
     "height": 388
    },
    "colab_type": "code",
    "executionInfo": {
     "elapsed": 625,
     "status": "ok",
     "timestamp": 1590703406217,
     "user": {
      "displayName": "Alex Er",
      "photoUrl": "",
      "userId": "04455077611159472702"
     },
     "user_tz": 240
    },
    "id": "ELJvmMGmS7Vj",
    "outputId": "41af7fe6-a9b4-4c88-e4e0-edf13c883538"
   },
   "outputs": [
    {
     "data": {
      "image/png": "[encoded data removed]",
      "text/plain": [
       "<Figure size 720x432 with 1 Axes>"
      ]
     },
     "metadata": {
      "needs_background": "light",
      "tags": []
     },
     "output_type": "display_data"
    }
   ],
   "source": [
    "plt.figure(figsize=(10, 6))\n",
    "plot_series(time_valid, x_valid)\n",
    "plot_series(time_valid, rnn_forecast)"
   ]
  },
  {
   "cell_type": "code",
   "execution_count": 69,
   "metadata": {
    "colab": {
     "base_uri": "https://localhost:8080/",
     "height": 279
    },
    "colab_type": "code",
    "executionInfo": {
     "elapsed": 689,
     "status": "ok",
     "timestamp": 1590703760466,
     "user": {
      "displayName": "Alex Er",
      "photoUrl": "",
      "userId": "04455077611159472702"
     },
     "user_tz": 240
    },
    "id": "49ZGDsMhS-qG",
    "outputId": "ac38234e-6799-4c1a-cd47-7ff68d992a6c"
   },
   "outputs": [
    {
     "data": {
      "image/png": "[encoded data removed]",
      "text/plain": [
       "<Figure size 432x288 with 1 Axes>"
      ]
     },
     "metadata": {
      "needs_background": "light",
      "tags": []
     },
     "output_type": "display_data"
    }
   ],
   "source": [
    "plot_series(time[:split_time], x_train)"
   ]
  },
  {
   "cell_type": "code",
   "execution_count": 0,
   "metadata": {
    "colab": {},
    "colab_type": "code",
    "id": "NBf4n7TgVSE5"
   },
   "outputs": [],
   "source": []
  },
  {
   "cell_type": "markdown",
   "metadata": {
    "colab_type": "text",
    "id": "K_md_VjQVhiF"
   },
   "source": [
    "# part 2\n"
   ]
  },
  {
   "cell_type": "code",
   "execution_count": 0,
   "metadata": {
    "colab": {},
    "colab_type": "code",
    "id": "q--GNP-_W0xf"
   },
   "outputs": [],
   "source": [
    "def univariate_data(dataset, start_index, end_index, history_size, target_size):\n",
    "  data = []\n",
    "  labels = []\n",
    "\n",
    "  start_index = start_index + history_size\n",
    "  if end_index is None:\n",
    "    end_index = len(dataset) - target_size\n",
    "\n",
    "  for i in range(start_index, end_index):\n",
    "    indices = range(i-history_size, i)\n",
    "    # Reshape data from (history_size,) to (history_size, 1)\n",
    "    data.append(np.reshape(dataset[indices], (history_size, 1)))\n",
    "    labels.append(dataset[i+target_size])\n",
    "  return np.array(data), np.array(labels)"
   ]
  },
  {
   "cell_type": "code",
   "execution_count": 135,
   "metadata": {
    "colab": {
     "base_uri": "https://localhost:8080/",
     "height": 138
    },
    "colab_type": "code",
    "executionInfo": {
     "elapsed": 386,
     "status": "ok",
     "timestamp": 1590712320908,
     "user": {
      "displayName": "Alex Er",
      "photoUrl": "",
      "userId": "04455077611159472702"
     },
     "user_tz": 240
    },
    "id": "UwE6f7e00q6w",
    "outputId": "8d46f39e-d227-42fd-d7f2-49852c398c13"
   },
   "outputs": [
    {
     "data": {
      "text/plain": [
       "tradeDate\n",
       "2015-01-05    189.62\n",
       "2015-01-06    200.00\n",
       "2015-01-07    196.04\n",
       "2015-01-08    194.00\n",
       "2015-01-09    190.40\n",
       "Name: openPrice, dtype: float64"
      ]
     },
     "execution_count": 135,
     "metadata": {
      "tags": []
     },
     "output_type": "execute_result"
    }
   ],
   "source": [
    "uni_data = df['openPrice']\n",
    "uni_data.index = df['tradeDate']\n",
    "uni_data.head()"
   ]
  },
  {
   "cell_type": "code",
   "execution_count": 136,
   "metadata": {
    "colab": {
     "base_uri": "https://localhost:8080/",
     "height": 319
    },
    "colab_type": "code",
    "executionInfo": {
     "elapsed": 472,
     "status": "ok",
     "timestamp": 1590712322251,
     "user": {
      "displayName": "Alex Er",
      "photoUrl": "",
      "userId": "04455077611159472702"
     },
     "user_tz": 240
    },
    "id": "FvmuegpJ01XI",
    "outputId": "27b54f0e-cabc-4ec4-8937-8d113e2c0c4f"
   },
   "outputs": [
    {
     "data": {
      "text/plain": [
       "array([<matplotlib.axes._subplots.AxesSubplot object at 0x7f8d13fe2400>],\n",
       "      dtype=object)"
      ]
     },
     "execution_count": 136,
     "metadata": {
      "tags": []
     },
     "output_type": "execute_result"
    },
    {
     "data": {
      "image/png": "[encoded data removed]",
      "text/plain": [
       "<Figure size 432x288 with 1 Axes>"
      ]
     },
     "metadata": {
      "needs_background": "light",
      "tags": []
     },
     "output_type": "display_data"
    }
   ],
   "source": [
    "uni_data.plot(subplots=True)"
   ]
  },
  {
   "cell_type": "code",
   "execution_count": 0,
   "metadata": {
    "colab": {},
    "colab_type": "code",
    "id": "bEOYpKra04xo"
   },
   "outputs": [],
   "source": [
    "TRAIN_SPLIT = 1000\n",
    "uni_data = uni_data.values\n",
    "uni_train_mean = uni_data[:TRAIN_SPLIT].mean()\n",
    "uni_train_std = uni_data[:TRAIN_SPLIT].std()"
   ]
  },
  {
   "cell_type": "code",
   "execution_count": 0,
   "metadata": {
    "colab": {},
    "colab_type": "code",
    "id": "jh8WOFfx1RGz"
   },
   "outputs": [],
   "source": [
    "uni_data = (uni_data-uni_train_mean)/uni_train_std"
   ]
  },
  {
   "cell_type": "code",
   "execution_count": 0,
   "metadata": {
    "colab": {},
    "colab_type": "code",
    "id": "ZqTz29B81ufP"
   },
   "outputs": [],
   "source": [
    "univariate_past_history = 20\n",
    "univariate_future_target = 0\n",
    "\n",
    "x_train_uni, y_train_uni = univariate_data(uni_data, 0, TRAIN_SPLIT,\n",
    "                                           univariate_past_history,\n",
    "                                           univariate_future_target)\n",
    "x_val_uni, y_val_uni = univariate_data(uni_data, TRAIN_SPLIT, None,\n",
    "                                       univariate_past_history,\n",
    "                                       univariate_future_target)"
   ]
  },
  {
   "cell_type": "code",
   "execution_count": 142,
   "metadata": {
    "colab": {
     "base_uri": "https://localhost:8080/",
     "height": 138
    },
    "colab_type": "code",
    "executionInfo": {
     "elapsed": 419,
     "status": "ok",
     "timestamp": 1590712447093,
     "user": {
      "displayName": "Alex Er",
      "photoUrl": "",
      "userId": "04455077611159472702"
     },
     "user_tz": 240
    },
    "id": "fX--5yW22LrS",
    "outputId": "ee2e5cfa-67f9-4af3-bf10-1abf6094d37c"
   },
   "outputs": [
    {
     "data": {
      "text/plain": [
       "tradeDate\n",
       "2015-01-05    189.62\n",
       "2015-01-06    200.00\n",
       "2015-01-07    196.04\n",
       "2015-01-08    194.00\n",
       "2015-01-09    190.40\n",
       "Name: openPrice, dtype: float64"
      ]
     },
     "execution_count": 142,
     "metadata": {
      "tags": []
     },
     "output_type": "execute_result"
    }
   ],
   "source": [
    "TRAIN_SPLIT = 1000\n",
    "tf.random.set_seed(13)\n",
    "\n",
    "uni_data = df['openPrice']\n",
    "uni_data.index = df['tradeDate']\n",
    "uni_data.head()"
   ]
  },
  {
   "cell_type": "code",
   "execution_count": 143,
   "metadata": {
    "colab": {
     "base_uri": "https://localhost:8080/",
     "height": 319
    },
    "colab_type": "code",
    "executionInfo": {
     "elapsed": 637,
     "status": "ok",
     "timestamp": 1590712459611,
     "user": {
      "displayName": "Alex Er",
      "photoUrl": "",
      "userId": "04455077611159472702"
     },
     "user_tz": 240
    },
    "id": "kPRt1Vcp2b3x",
    "outputId": "1647d8ef-03dd-4670-db17-6cdf40a081a2"
   },
   "outputs": [
    {
     "data": {
      "text/plain": [
       "array([<matplotlib.axes._subplots.AxesSubplot object at 0x7f8d13efcd30>],\n",
       "      dtype=object)"
      ]
     },
     "execution_count": 143,
     "metadata": {
      "tags": []
     },
     "output_type": "execute_result"
    },
    {
     "data": {
      "image/png": "[encoded data removed]",
      "text/plain": [
       "<Figure size 432x288 with 1 Axes>"
      ]
     },
     "metadata": {
      "needs_background": "light",
      "tags": []
     },
     "output_type": "display_data"
    }
   ],
   "source": [
    "uni_data.plot(subplots=True)"
   ]
  },
  {
   "cell_type": "code",
   "execution_count": 146,
   "metadata": {
    "colab": {
     "base_uri": "https://localhost:8080/",
     "height": 432
    },
    "colab_type": "code",
    "executionInfo": {
     "elapsed": 391,
     "status": "ok",
     "timestamp": 1590712564880,
     "user": {
      "displayName": "Alex Er",
      "photoUrl": "",
      "userId": "04455077611159472702"
     },
     "user_tz": 240
    },
    "id": "rx0k0czA2ez5",
    "outputId": "f4e363d7-e730-49a4-a7e4-7652a559e0ba"
   },
   "outputs": [
    {
     "name": "stdout",
     "output_type": "stream",
     "text": [
      "Single window of past history\n",
      "[[-1.15956636]\n",
      " [-1.10706088]\n",
      " [-1.12709187]\n",
      " [-1.13741087]\n",
      " [-1.15562086]\n",
      " [-1.1576442 ]\n",
      " [-1.17281919]\n",
      " [-1.18293586]\n",
      " [-1.18855061]\n",
      " [-1.17686586]\n",
      " [-1.20316919]\n",
      " [-1.22835968]\n",
      " [-1.21697843]\n",
      " [-1.19623927]\n",
      " [-1.20762052]\n",
      " [-1.19962835]\n",
      " [-1.19396302]\n",
      " [-1.21328585]\n",
      " [-1.22744918]\n",
      " [-1.2234531 ]]\n",
      "\n",
      " Open price to predict\n",
      "-1.2309394313257471\n"
     ]
    }
   ],
   "source": [
    "uni_data = uni_data.values\n",
    "uni_train_mean = uni_data[:TRAIN_SPLIT].mean()\n",
    "uni_train_std = uni_data[:TRAIN_SPLIT].std()\n",
    "uni_data = (uni_data-uni_train_mean)/uni_train_std\n",
    "\n",
    "univariate_past_history = 20\n",
    "univariate_future_target = 0\n",
    "\n",
    "x_train_uni, y_train_uni = univariate_data(uni_data, 0, TRAIN_SPLIT,\n",
    "                                           univariate_past_history,\n",
    "                                           univariate_future_target)\n",
    "x_val_uni, y_val_uni = univariate_data(uni_data, TRAIN_SPLIT, None,\n",
    "                                       univariate_past_history,\n",
    "                                       univariate_future_target)\n",
    "print ('Single window of past history')\n",
    "print (x_train_uni[0])\n",
    "print ('\\n Open price to predict')\n",
    "print (y_train_uni[0])"
   ]
  },
  {
   "cell_type": "code",
   "execution_count": 148,
   "metadata": {
    "colab": {
     "base_uri": "https://localhost:8080/",
     "height": 312
    },
    "colab_type": "code",
    "executionInfo": {
     "elapsed": 605,
     "status": "ok",
     "timestamp": 1590712615063,
     "user": {
      "displayName": "Alex Er",
      "photoUrl": "",
      "userId": "04455077611159472702"
     },
     "user_tz": 240
    },
    "id": "FtXdjO9J26Zs",
    "outputId": "9a9e4c1f-e883-4fb0-a643-27d72f77a2d0"
   },
   "outputs": [
    {
     "data": {
      "text/plain": [
       "<module 'matplotlib.pyplot' from '/usr/local/lib/python3.6/dist-packages/matplotlib/pyplot.py'>"
      ]
     },
     "execution_count": 148,
     "metadata": {
      "tags": []
     },
     "output_type": "execute_result"
    },
    {
     "data": {
      "image/png": "[encoded data removed]",
      "text/plain": [
       "<Figure size 432x288 with 1 Axes>"
      ]
     },
     "metadata": {
      "needs_background": "light",
      "tags": []
     },
     "output_type": "display_data"
    }
   ],
   "source": [
    "def create_time_steps(length):\n",
    "  return list(range(-length, 0))\n",
    "def show_plot(plot_data, delta, title):\n",
    "  labels = ['History', 'True Future', 'Model Prediction']\n",
    "  marker = ['.-', 'rx', 'go']\n",
    "  time_steps = create_time_steps(plot_data[0].shape[0])\n",
    "  if delta:\n",
    "    future = delta\n",
    "  else:\n",
    "    future = 0\n",
    "\n",
    "  plt.title(title)\n",
    "  for i, x in enumerate(plot_data):\n",
    "    if i:\n",
    "      plt.plot(future, plot_data[i], marker[i], markersize=10,\n",
    "               label=labels[i])\n",
    "    else:\n",
    "      plt.plot(time_steps, plot_data[i].flatten(), marker[i], label=labels[i])\n",
    "  plt.legend()\n",
    "  plt.xlim([time_steps[0], (future+5)*2])\n",
    "  plt.xlabel('Time-Step')\n",
    "  return plt\n",
    "show_plot([x_train_uni[0], y_train_uni[0]], 0, 'Sample Example')\n",
    "\n"
   ]
  },
  {
   "cell_type": "code",
   "execution_count": 149,
   "metadata": {
    "colab": {
     "base_uri": "https://localhost:8080/",
     "height": 312
    },
    "colab_type": "code",
    "executionInfo": {
     "elapsed": 670,
     "status": "ok",
     "timestamp": 1590712657633,
     "user": {
      "displayName": "Alex Er",
      "photoUrl": "",
      "userId": "04455077611159472702"
     },
     "user_tz": 240
    },
    "id": "7bfc7v333J2y",
    "outputId": "e9cec062-6a53-4bc9-a2fc-979cfc345fc8"
   },
   "outputs": [
    {
     "data": {
      "text/plain": [
       "<module 'matplotlib.pyplot' from '/usr/local/lib/python3.6/dist-packages/matplotlib/pyplot.py'>"
      ]
     },
     "execution_count": 149,
     "metadata": {
      "tags": []
     },
     "output_type": "execute_result"
    },
    {
     "data": {
      "image/png": "[encoded data removed]",
      "text/plain": [
       "<Figure size 432x288 with 1 Axes>"
      ]
     },
     "metadata": {
      "needs_background": "light",
      "tags": []
     },
     "output_type": "display_data"
    }
   ],
   "source": [
    "def baseline(history):\n",
    "  return np.mean(history)\n",
    "show_plot([x_train_uni[0], y_train_uni[0], baseline(x_train_uni[0])], 0,\n",
    "           'Baseline Prediction Example')\n"
   ]
  },
  {
   "cell_type": "code",
   "execution_count": 152,
   "metadata": {
    "colab": {
     "base_uri": "https://localhost:8080/",
     "height": 397
    },
    "colab_type": "code",
    "executionInfo": {
     "elapsed": 22727,
     "status": "ok",
     "timestamp": 1590712738558,
     "user": {
      "displayName": "Alex Er",
      "photoUrl": "",
      "userId": "04455077611159472702"
     },
     "user_tz": 240
    },
    "id": "11Cntz_a3S9M",
    "outputId": "82c961b9-91b8-4600-f172-2d2adf144cd7"
   },
   "outputs": [
    {
     "name": "stdout",
     "output_type": "stream",
     "text": [
      "(199, 1)\n",
      "Epoch 1/10\n",
      "200/200 [==============================] - 2s 11ms/step - loss: 0.2407 - val_loss: 1.3886\n",
      "Epoch 2/10\n",
      "200/200 [==============================] - 2s 10ms/step - loss: 0.0616 - val_loss: 1.1781\n",
      "Epoch 3/10\n",
      "200/200 [==============================] - 2s 10ms/step - loss: 0.0518 - val_loss: 1.0158\n",
      "Epoch 4/10\n",
      "200/200 [==============================] - 2s 10ms/step - loss: 0.0459 - val_loss: 0.8761\n",
      "Epoch 5/10\n",
      "200/200 [==============================] - 2s 10ms/step - loss: 0.0422 - val_loss: 0.7795\n",
      "Epoch 6/10\n",
      "200/200 [==============================] - 2s 10ms/step - loss: 0.0402 - val_loss: 0.7192\n",
      "Epoch 7/10\n",
      "200/200 [==============================] - 2s 10ms/step - loss: 0.0389 - val_loss: 0.6721\n",
      "Epoch 8/10\n",
      "200/200 [==============================] - 2s 10ms/step - loss: 0.0377 - val_loss: 0.6330\n",
      "Epoch 9/10\n",
      "200/200 [==============================] - 2s 10ms/step - loss: 0.0367 - val_loss: 0.5932\n",
      "Epoch 10/10\n",
      "200/200 [==============================] - 2s 10ms/step - loss: 0.0358 - val_loss: 0.5670\n"
     ]
    },
    {
     "data": {
      "text/plain": [
       "<tensorflow.python.keras.callbacks.History at 0x7f8d13e83b70>"
      ]
     },
     "execution_count": 152,
     "metadata": {
      "tags": []
     },
     "output_type": "execute_result"
    }
   ],
   "source": [
    "# RNN model \n",
    "BATCH_SIZE = 256\n",
    "BUFFER_SIZE = 10000\n",
    "\n",
    "train_univariate = tf.data.Dataset.from_tensor_slices((x_train_uni, y_train_uni))\n",
    "train_univariate = train_univariate.cache().shuffle(BUFFER_SIZE).batch(BATCH_SIZE).repeat()\n",
    "\n",
    "val_univariate = tf.data.Dataset.from_tensor_slices((x_val_uni, y_val_uni))\n",
    "val_univariate = val_univariate.batch(BATCH_SIZE).repeat()\n",
    "simple_lstm_model = tf.keras.models.Sequential([\n",
    "    tf.keras.layers.LSTM(8, input_shape=x_train_uni.shape[-2:]),\n",
    "    tf.keras.layers.Dense(1)\n",
    "])\n",
    "\n",
    "simple_lstm_model.compile(optimizer='adam', loss='mae')\n",
    "for x, y in val_univariate.take(1):\n",
    "    print(simple_lstm_model.predict(x).shape)\n",
    "\n",
    "EVALUATION_INTERVAL = 200\n",
    "EPOCHS = 10\n",
    "\n",
    "simple_lstm_model.fit(train_univariate, epochs=EPOCHS,\n",
    "                      steps_per_epoch=EVALUATION_INTERVAL,\n",
    "                      validation_data=val_univariate, validation_steps=50)"
   ]
  },
  {
   "cell_type": "code",
   "execution_count": 153,
   "metadata": {
    "colab": {
     "base_uri": "https://localhost:8080/",
     "height": 851
    },
    "colab_type": "code",
    "executionInfo": {
     "elapsed": 1083,
     "status": "ok",
     "timestamp": 1590712786680,
     "user": {
      "displayName": "Alex Er",
      "photoUrl": "",
      "userId": "04455077611159472702"
     },
     "user_tz": 240
    },
    "id": "DuhNDMFM3s8P",
    "outputId": "bbdaa0b4-b6ac-4a05-d062-c7cc76f26e3d"
   },
   "outputs": [
    {
     "data": {
      "image/png": "[encoded data removed]",
      "text/plain": [
       "<Figure size 432x288 with 1 Axes>"
      ]
     },
     "metadata": {
      "needs_background": "light",
      "tags": []
     },
     "output_type": "display_data"
    },
    {
     "data": {
      "image/png": "[encoded data removed]",
      "text/plain": [
       "<Figure size 432x288 with 1 Axes>"
      ]
     },
     "metadata": {
      "needs_background": "light",
      "tags": []
     },
     "output_type": "display_data"
    },
    {
     "data": {
      "image/png": "[encoded data removed]",
      "text/plain": [
       "<Figure size 432x288 with 1 Axes>"
      ]
     },
     "metadata": {
      "needs_background": "light",
      "tags": []
     },
     "output_type": "display_data"
    }
   ],
   "source": [
    "for x, y in val_univariate.take(3):\n",
    "  plot = show_plot([x[0].numpy(), y[0].numpy(),\n",
    "                    simple_lstm_model.predict(x)[0]], 0, 'Simple LSTM model')\n",
    "  plot.show()"
   ]
  },
  {
   "cell_type": "markdown",
   "metadata": {
    "colab_type": "text",
    "id": "pB6K-XvH2Lc3"
   },
   "source": [
    "# -----------------\n"
   ]
  },
  {
   "cell_type": "code",
   "execution_count": 83,
   "metadata": {
    "colab": {
     "base_uri": "https://localhost:8080/",
     "height": 228
    },
    "colab_type": "code",
    "executionInfo": {
     "elapsed": 426,
     "status": "ok",
     "timestamp": 1590711419947,
     "user": {
      "displayName": "Alex Er",
      "photoUrl": "",
      "userId": "04455077611159472702"
     },
     "user_tz": 240
    },
    "id": "j8588UQdViv9",
    "outputId": "4f49d5d1-203a-4b33-fab8-30aedaff14ad"
   },
   "outputs": [
    {
     "data": {
      "text/html": [
       "<div>\n",
       "<style scoped>\n",
       "    .dataframe tbody tr th:only-of-type {\n",
       "        vertical-align: middle;\n",
       "    }\n",
       "\n",
       "    .dataframe tbody tr th {\n",
       "        vertical-align: top;\n",
       "    }\n",
       "\n",
       "    .dataframe thead th {\n",
       "        text-align: right;\n",
       "    }\n",
       "</style>\n",
       "<table border=\"1\" class=\"dataframe\">\n",
       "  <thead>\n",
       "    <tr style=\"text-align: right;\">\n",
       "      <th></th>\n",
       "      <th>openPrice</th>\n",
       "      <th>turnoverVol</th>\n",
       "    </tr>\n",
       "    <tr>\n",
       "      <th>tradeDate</th>\n",
       "      <th></th>\n",
       "      <th></th>\n",
       "    </tr>\n",
       "  </thead>\n",
       "  <tbody>\n",
       "    <tr>\n",
       "      <th>2015-01-05</th>\n",
       "      <td>189.62</td>\n",
       "      <td>9451517</td>\n",
       "    </tr>\n",
       "    <tr>\n",
       "      <th>2015-01-06</th>\n",
       "      <td>200.00</td>\n",
       "      <td>5502001</td>\n",
       "    </tr>\n",
       "    <tr>\n",
       "      <th>2015-01-07</th>\n",
       "      <td>196.04</td>\n",
       "      <td>5479784</td>\n",
       "    </tr>\n",
       "    <tr>\n",
       "      <th>2015-01-08</th>\n",
       "      <td>194.00</td>\n",
       "      <td>4052530</td>\n",
       "    </tr>\n",
       "    <tr>\n",
       "      <th>2015-01-09</th>\n",
       "      <td>190.40</td>\n",
       "      <td>5398220</td>\n",
       "    </tr>\n",
       "  </tbody>\n",
       "</table>\n",
       "</div>"
      ],
      "text/plain": [
       "            openPrice  turnoverVol\n",
       "tradeDate                         \n",
       "2015-01-05     189.62      9451517\n",
       "2015-01-06     200.00      5502001\n",
       "2015-01-07     196.04      5479784\n",
       "2015-01-08     194.00      4052530\n",
       "2015-01-09     190.40      5398220"
      ]
     },
     "execution_count": 83,
     "metadata": {
      "tags": []
     },
     "output_type": "execute_result"
    }
   ],
   "source": [
    "features_considered = ['openPrice', 'turnoverVol']\n",
    "features = df[features_considered]\n",
    "features.index = df['tradeDate']\n",
    "features.head()"
   ]
  },
  {
   "cell_type": "code",
   "execution_count": 154,
   "metadata": {
    "colab": {
     "base_uri": "https://localhost:8080/",
     "height": 336
    },
    "colab_type": "code",
    "executionInfo": {
     "elapsed": 758,
     "status": "ok",
     "timestamp": 1590712825096,
     "user": {
      "displayName": "Alex Er",
      "photoUrl": "",
      "userId": "04455077611159472702"
     },
     "user_tz": 240
    },
    "id": "kM18_nIOW9nD",
    "outputId": "53f74020-0f5b-4b85-d889-822272c9c5c9"
   },
   "outputs": [
    {
     "data": {
      "text/plain": [
       "array([<matplotlib.axes._subplots.AxesSubplot object at 0x7f8d13cab518>,\n",
       "       <matplotlib.axes._subplots.AxesSubplot object at 0x7f8d113e4e10>],\n",
       "      dtype=object)"
      ]
     },
     "execution_count": 154,
     "metadata": {
      "tags": []
     },
     "output_type": "execute_result"
    },
    {
     "data": {
      "image/png": "[encoded data removed]",
      "text/plain": [
       "<Figure size 432x288 with 2 Axes>"
      ]
     },
     "metadata": {
      "needs_background": "light",
      "tags": []
     },
     "output_type": "display_data"
    }
   ],
   "source": [
    "features.plot(subplots=True)"
   ]
  },
  {
   "cell_type": "code",
   "execution_count": 0,
   "metadata": {
    "colab": {},
    "colab_type": "code",
    "id": "A1AFFOIJXh4Y"
   },
   "outputs": [],
   "source": [
    "dataset = features.values\n",
    "data_mean = dataset[:TRAIN_SPLIT].mean(axis=0)\n",
    "data_std = dataset[:TRAIN_SPLIT].std(axis=0)\n",
    "dataset = (dataset-data_mean)/data_std"
   ]
  },
  {
   "cell_type": "code",
   "execution_count": 0,
   "metadata": {
    "colab": {},
    "colab_type": "code",
    "id": "8ThyRgFuylaL"
   },
   "outputs": [],
   "source": [
    "# Single step model\n",
    "def multivariate_data(dataset, target, start_index, end_index, history_size,\n",
    "                      target_size, step, single_step=False):\n",
    "  data = []\n",
    "  labels = []\n",
    "\n",
    "  start_index = start_index + history_size\n",
    "  if end_index is None:\n",
    "    end_index = len(dataset) - target_size\n",
    "\n",
    "  for i in range(start_index, end_index):\n",
    "    indices = range(i-history_size, i, step)\n",
    "    data.append(dataset[indices])\n",
    "\n",
    "    if single_step:\n",
    "      labels.append(target[i+target_size])\n",
    "    else:\n",
    "      labels.append(target[i:i+target_size])\n",
    "\n",
    "  return np.array(data), np.array(labels)"
   ]
  },
  {
   "cell_type": "code",
   "execution_count": 0,
   "metadata": {
    "colab": {},
    "colab_type": "code",
    "id": "lARYlO35y8Bm"
   },
   "outputs": [],
   "source": [
    "past_history = 60\n",
    "future_target = 7\n",
    "STEP = 1\n",
    "\n",
    "x_train_single, y_train_single = multivariate_data(dataset, dataset[:, 1], 0,\n",
    "                                                   TRAIN_SPLIT, past_history,\n",
    "                                                   future_target, STEP,\n",
    "                                                   single_step=True)\n",
    "x_val_single, y_val_single = multivariate_data(dataset, dataset[:, 1],\n",
    "                                               TRAIN_SPLIT, None, past_history,\n",
    "                                               future_target, STEP,\n",
    "                                               single_step=True)"
   ]
  },
  {
   "cell_type": "code",
   "execution_count": 184,
   "metadata": {
    "colab": {
     "base_uri": "https://localhost:8080/",
     "height": 35
    },
    "colab_type": "code",
    "executionInfo": {
     "elapsed": 420,
     "status": "ok",
     "timestamp": 1590713361366,
     "user": {
      "displayName": "Alex Er",
      "photoUrl": "",
      "userId": "04455077611159472702"
     },
     "user_tz": 240
    },
    "id": "G_1ZZkzizA6H",
    "outputId": "f2acfb84-8a3d-4244-dbdb-ad105840ddc3"
   },
   "outputs": [
    {
     "name": "stdout",
     "output_type": "stream",
     "text": [
      "Single window of past history : (60, 2)\n"
     ]
    }
   ],
   "source": [
    "print ('Single window of past history : {}'.format(x_train_single[0].shape))"
   ]
  },
  {
   "cell_type": "code",
   "execution_count": 0,
   "metadata": {
    "colab": {},
    "colab_type": "code",
    "id": "PZRUED-8zDmH"
   },
   "outputs": [],
   "source": [
    "train_data_single = tf.data.Dataset.from_tensor_slices((x_train_single, y_train_single))\n",
    "train_data_single = train_data_single.cache().shuffle(BUFFER_SIZE).batch(BATCH_SIZE).repeat()\n",
    "\n",
    "val_data_single = tf.data.Dataset.from_tensor_slices((x_val_single, y_val_single))\n",
    "val_data_single = val_data_single.batch(BATCH_SIZE).repeat()"
   ]
  },
  {
   "cell_type": "code",
   "execution_count": 0,
   "metadata": {
    "colab": {},
    "colab_type": "code",
    "id": "UHCVSYRMzFqW"
   },
   "outputs": [],
   "source": [
    "single_step_model = tf.keras.models.Sequential()\n",
    "single_step_model.add(tf.keras.layers.LSTM(32,\n",
    "                                           input_shape=x_train_single.shape[-2:]))\n",
    "single_step_model.add(tf.keras.layers.Dense(1))\n",
    "\n",
    "single_step_model.compile(optimizer=tf.keras.optimizers.RMSprop(), loss='mae')"
   ]
  },
  {
   "cell_type": "code",
   "execution_count": 187,
   "metadata": {
    "colab": {
     "base_uri": "https://localhost:8080/",
     "height": 35
    },
    "colab_type": "code",
    "executionInfo": {
     "elapsed": 778,
     "status": "ok",
     "timestamp": 1590713365296,
     "user": {
      "displayName": "Alex Er",
      "photoUrl": "",
      "userId": "04455077611159472702"
     },
     "user_tz": 240
    },
    "id": "iHLxnJyqzSNy",
    "outputId": "43591fad-c8b4-43e6-fd60-aa446c6c9231"
   },
   "outputs": [
    {
     "name": "stdout",
     "output_type": "stream",
     "text": [
      "(152, 1)\n"
     ]
    }
   ],
   "source": [
    "for x, y in val_data_single.take(1):\n",
    "  print(single_step_model.predict(x).shape)"
   ]
  },
  {
   "cell_type": "code",
   "execution_count": 188,
   "metadata": {
    "colab": {
     "base_uri": "https://localhost:8080/",
     "height": 363
    },
    "colab_type": "code",
    "executionInfo": {
     "elapsed": 105960,
     "status": "ok",
     "timestamp": 1590713471979,
     "user": {
      "displayName": "Alex Er",
      "photoUrl": "",
      "userId": "04455077611159472702"
     },
     "user_tz": 240
    },
    "id": "WX8QQFTEzT7s",
    "outputId": "c12cb2d8-b234-43d6-f083-e2f3d52e9787"
   },
   "outputs": [
    {
     "name": "stdout",
     "output_type": "stream",
     "text": [
      "Epoch 1/10\n",
      "200/200 [==============================] - 11s 53ms/step - loss: 0.5108 - val_loss: 0.6335\n",
      "Epoch 2/10\n",
      "200/200 [==============================] - 10s 52ms/step - loss: 0.4643 - val_loss: 0.7452\n",
      "Epoch 3/10\n",
      "200/200 [==============================] - 10s 52ms/step - loss: 0.4383 - val_loss: 0.7673\n",
      "Epoch 4/10\n",
      "200/200 [==============================] - 10s 52ms/step - loss: 0.4234 - val_loss: 0.8003\n",
      "Epoch 5/10\n",
      "200/200 [==============================] - 10s 51ms/step - loss: 0.4111 - val_loss: 0.8041\n",
      "Epoch 6/10\n",
      "200/200 [==============================] - 10s 51ms/step - loss: 0.4047 - val_loss: 0.8804\n",
      "Epoch 7/10\n",
      "200/200 [==============================] - 10s 51ms/step - loss: 0.3975 - val_loss: 0.9762\n",
      "Epoch 8/10\n",
      "200/200 [==============================] - 10s 51ms/step - loss: 0.3926 - val_loss: 1.0345\n",
      "Epoch 9/10\n",
      "200/200 [==============================] - 11s 53ms/step - loss: 0.3867 - val_loss: 1.1048\n",
      "Epoch 10/10\n",
      "200/200 [==============================] - 10s 52ms/step - loss: 0.3822 - val_loss: 1.1128\n"
     ]
    }
   ],
   "source": [
    "single_step_history = single_step_model.fit(train_data_single, epochs=EPOCHS,\n",
    "                                            steps_per_epoch=EVALUATION_INTERVAL,\n",
    "                                            validation_data=val_data_single,\n",
    "                                            validation_steps=50)"
   ]
  },
  {
   "cell_type": "code",
   "execution_count": 0,
   "metadata": {
    "colab": {},
    "colab_type": "code",
    "id": "Iujaq8Q7zWkz"
   },
   "outputs": [],
   "source": [
    "def plot_train_history(history, title):\n",
    "  loss = history.history['loss']\n",
    "  val_loss = history.history['val_loss']\n",
    "\n",
    "  epochs = range(len(loss))\n",
    "\n",
    "  plt.figure()\n",
    "\n",
    "  plt.plot(epochs, loss, 'b', label='Training loss')\n",
    "  plt.plot(epochs, val_loss, 'r', label='Validation loss')\n",
    "  plt.title(title)\n",
    "  plt.legend()\n",
    "\n",
    "  plt.show()"
   ]
  },
  {
   "cell_type": "code",
   "execution_count": 190,
   "metadata": {
    "colab": {
     "base_uri": "https://localhost:8080/",
     "height": 281
    },
    "colab_type": "code",
    "executionInfo": {
     "elapsed": 377,
     "status": "ok",
     "timestamp": 1590713478053,
     "user": {
      "displayName": "Alex Er",
      "photoUrl": "",
      "userId": "04455077611159472702"
     },
     "user_tz": 240
    },
    "id": "_6cIY66J0UmA",
    "outputId": "9e3dc072-5a06-43aa-defb-1e96c0a7b062"
   },
   "outputs": [
    {
     "data": {
      "image/png": "[encoded data removed]",
      "text/plain": [
       "<Figure size 432x288 with 1 Axes>"
      ]
     },
     "metadata": {
      "needs_background": "light",
      "tags": []
     },
     "output_type": "display_data"
    }
   ],
   "source": [
    "plot_train_history(single_step_history,\n",
    "                   'Single Step Training and validation loss')"
   ]
  },
  {
   "cell_type": "code",
   "execution_count": 191,
   "metadata": {
    "colab": {
     "base_uri": "https://localhost:8080/",
     "height": 573
    },
    "colab_type": "code",
    "executionInfo": {
     "elapsed": 703,
     "status": "ok",
     "timestamp": 1590713480618,
     "user": {
      "displayName": "Alex Er",
      "photoUrl": "",
      "userId": "04455077611159472702"
     },
     "user_tz": 240
    },
    "id": "qJT23J154_JE",
    "outputId": "8c82ae7a-f5c7-4974-ce4c-d1f459e609d5"
   },
   "outputs": [
    {
     "data": {
      "image/png": "[encoded data removed]",
      "text/plain": [
       "<Figure size 432x288 with 1 Axes>"
      ]
     },
     "metadata": {
      "needs_background": "light",
      "tags": []
     },
     "output_type": "display_data"
    },
    {
     "data": {
      "image/png": "[encoded data removed]",
      "text/plain": [
       "<Figure size 432x288 with 1 Axes>"
      ]
     },
     "metadata": {
      "needs_background": "light",
      "tags": []
     },
     "output_type": "display_data"
    }
   ],
   "source": [
    "for x, y in val_data_single.take(2):\n",
    "  plot = show_plot([x[0][:, 1].numpy(), y[0].numpy(),\n",
    "                    single_step_model.predict(x)[0]], 12,\n",
    "                   'Single Step Prediction')\n",
    "  plot.show()"
   ]
  },
  {
   "cell_type": "code",
   "execution_count": 0,
   "metadata": {
    "colab": {},
    "colab_type": "code",
    "id": "VqQpfxb15BkK"
   },
   "outputs": [],
   "source": [
    "# multistep model \n",
    "future_target = 7\n",
    "x_train_multi, y_train_multi = multivariate_data(dataset, dataset[:, 1], 0,\n",
    "                                                 TRAIN_SPLIT, past_history,\n",
    "                                                 future_target, STEP)\n",
    "x_val_multi, y_val_multi = multivariate_data(dataset, dataset[:, 1],\n",
    "                                             TRAIN_SPLIT, None, past_history,\n",
    "                                             future_target, STEP)"
   ]
  },
  {
   "cell_type": "code",
   "execution_count": 194,
   "metadata": {
    "colab": {
     "base_uri": "https://localhost:8080/",
     "height": 69
    },
    "colab_type": "code",
    "executionInfo": {
     "elapsed": 447,
     "status": "ok",
     "timestamp": 1590713521088,
     "user": {
      "displayName": "Alex Er",
      "photoUrl": "",
      "userId": "04455077611159472702"
     },
     "user_tz": 240
    },
    "id": "DFzGtggX5MrU",
    "outputId": "a3ee1741-a394-4d28-8caf-ce9164768ff4"
   },
   "outputs": [
    {
     "name": "stdout",
     "output_type": "stream",
     "text": [
      "Single window of past history : (60, 2)\n",
      "\n",
      " Target Open Price to predict : (7,)\n"
     ]
    }
   ],
   "source": [
    "print ('Single window of past history : {}'.format(x_train_multi[0].shape))\n",
    "print ('\\n Target Open Price to predict : {}'.format(y_train_multi[0].shape))"
   ]
  },
  {
   "cell_type": "code",
   "execution_count": 0,
   "metadata": {
    "colab": {},
    "colab_type": "code",
    "id": "_b2IuUfO5RfN"
   },
   "outputs": [],
   "source": [
    "train_data_multi = tf.data.Dataset.from_tensor_slices((x_train_multi, y_train_multi))\n",
    "train_data_multi = train_data_multi.cache().shuffle(BUFFER_SIZE).batch(BATCH_SIZE).repeat()\n",
    "\n",
    "val_data_multi = tf.data.Dataset.from_tensor_slices((x_val_multi, y_val_multi))\n",
    "val_data_multi = val_data_multi.batch(BATCH_SIZE).repeat()"
   ]
  },
  {
   "cell_type": "code",
   "execution_count": 0,
   "metadata": {
    "colab": {},
    "colab_type": "code",
    "id": "KakFAhq35TIs"
   },
   "outputs": [],
   "source": [
    "def multi_step_plot(history, true_future, prediction):\n",
    "  plt.figure(figsize=(12, 6))\n",
    "  num_in = create_time_steps(len(history))\n",
    "  num_out = len(true_future)\n",
    "\n",
    "  plt.plot(num_in, np.array(history[:, 1]), label='History')\n",
    "  plt.plot(np.arange(num_out)/STEP, np.array(true_future), 'bo',\n",
    "           label='True Future')\n",
    "  if prediction.any():\n",
    "    plt.plot(np.arange(num_out)/STEP, np.array(prediction), 'ro',\n",
    "             label='Predicted Future')\n",
    "  plt.legend(loc='upper left')\n",
    "  plt.show()"
   ]
  },
  {
   "cell_type": "code",
   "execution_count": 197,
   "metadata": {
    "colab": {
     "base_uri": "https://localhost:8080/",
     "height": 374
    },
    "colab_type": "code",
    "executionInfo": {
     "elapsed": 927,
     "status": "ok",
     "timestamp": 1590713524614,
     "user": {
      "displayName": "Alex Er",
      "photoUrl": "",
      "userId": "04455077611159472702"
     },
     "user_tz": 240
    },
    "id": "0IO0r7jZ5VFu",
    "outputId": "678796b3-5fa2-4a96-8263-675906800f38"
   },
   "outputs": [
    {
     "data": {
      "image/png": "[encoded data removed]",
      "text/plain": [
       "<Figure size 864x432 with 1 Axes>"
      ]
     },
     "metadata": {
      "needs_background": "light",
      "tags": []
     },
     "output_type": "display_data"
    }
   ],
   "source": [
    "for x, y in train_data_multi.take(1):\n",
    "  multi_step_plot(x[0], y[0], np.array([0]))"
   ]
  },
  {
   "cell_type": "code",
   "execution_count": 0,
   "metadata": {
    "colab": {},
    "colab_type": "code",
    "id": "TL8NYg4E5XLO"
   },
   "outputs": [],
   "source": [
    "multi_step_model = tf.keras.models.Sequential()\n",
    "multi_step_model.add(tf.keras.layers.LSTM(32,\n",
    "                                          return_sequences=True,\n",
    "                                          input_shape=x_train_multi.shape[-2:]))\n",
    "multi_step_model.add(tf.keras.layers.LSTM(16, activation='relu'))\n",
    "multi_step_model.add(tf.keras.layers.Dense(7))\n",
    "\n",
    "multi_step_model.compile(optimizer=tf.keras.optimizers.RMSprop(clipvalue=1.0), loss='mae')"
   ]
  },
  {
   "cell_type": "code",
   "execution_count": 199,
   "metadata": {
    "colab": {
     "base_uri": "https://localhost:8080/",
     "height": 35
    },
    "colab_type": "code",
    "executionInfo": {
     "elapsed": 832,
     "status": "ok",
     "timestamp": 1590713534033,
     "user": {
      "displayName": "Alex Er",
      "photoUrl": "",
      "userId": "04455077611159472702"
     },
     "user_tz": 240
    },
    "id": "lkp-bEC35akW",
    "outputId": "118632c3-5ee0-4cd4-be53-6abd17cb9f01"
   },
   "outputs": [
    {
     "name": "stdout",
     "output_type": "stream",
     "text": [
      "(152, 7)\n"
     ]
    }
   ],
   "source": [
    "for x, y in val_data_multi.take(1):\n",
    "  print (multi_step_model.predict(x).shape)\n"
   ]
  },
  {
   "cell_type": "code",
   "execution_count": 200,
   "metadata": {
    "colab": {
     "base_uri": "https://localhost:8080/",
     "height": 363
    },
    "colab_type": "code",
    "executionInfo": {
     "elapsed": 189338,
     "status": "ok",
     "timestamp": 1590713725440,
     "user": {
      "displayName": "Alex Er",
      "photoUrl": "",
      "userId": "04455077611159472702"
     },
     "user_tz": 240
    },
    "id": "Qx5NbUso5g4Q",
    "outputId": "4122c798-3e2d-4c65-99d2-24e4d55d818c"
   },
   "outputs": [
    {
     "name": "stdout",
     "output_type": "stream",
     "text": [
      "Epoch 1/10\n",
      "200/200 [==============================] - 19s 94ms/step - loss: 0.5142 - val_loss: 0.4735\n",
      "Epoch 2/10\n",
      "200/200 [==============================] - 19s 93ms/step - loss: 0.4448 - val_loss: 0.5209\n",
      "Epoch 3/10\n",
      "200/200 [==============================] - 18s 91ms/step - loss: 0.4178 - val_loss: 0.5804\n",
      "Epoch 4/10\n",
      "200/200 [==============================] - 19s 93ms/step - loss: 0.4053 - val_loss: 0.7597\n",
      "Epoch 5/10\n",
      "200/200 [==============================] - 18s 92ms/step - loss: 0.3965 - val_loss: 0.7066\n",
      "Epoch 6/10\n",
      "200/200 [==============================] - 18s 92ms/step - loss: 0.3890 - val_loss: 0.9014\n",
      "Epoch 7/10\n",
      "200/200 [==============================] - 18s 92ms/step - loss: 0.3810 - val_loss: 0.8206\n",
      "Epoch 8/10\n",
      "200/200 [==============================] - 19s 93ms/step - loss: 0.3718 - val_loss: 0.7761\n",
      "Epoch 9/10\n",
      "200/200 [==============================] - 19s 93ms/step - loss: 0.3613 - val_loss: 0.8511\n",
      "Epoch 10/10\n",
      "200/200 [==============================] - 19s 94ms/step - loss: 0.3528 - val_loss: 0.8339\n"
     ]
    }
   ],
   "source": [
    "multi_step_history = multi_step_model.fit(train_data_multi, epochs=EPOCHS,\n",
    "                                          steps_per_epoch=EVALUATION_INTERVAL,\n",
    "                                          validation_data=val_data_multi,\n",
    "                                          validation_steps=50)"
   ]
  },
  {
   "cell_type": "code",
   "execution_count": 201,
   "metadata": {
    "colab": {
     "base_uri": "https://localhost:8080/",
     "height": 281
    },
    "colab_type": "code",
    "executionInfo": {
     "elapsed": 186417,
     "status": "ok",
     "timestamp": 1590713725443,
     "user": {
      "displayName": "Alex Er",
      "photoUrl": "",
      "userId": "04455077611159472702"
     },
     "user_tz": 240
    },
    "id": "YW-THzla5imX",
    "outputId": "42708c04-7b6c-40f2-9488-bb0f37ef61fb"
   },
   "outputs": [
    {
     "data": {
      "image/png": "[encoded data removed]",
      "text/plain": [
       "<Figure size 432x288 with 1 Axes>"
      ]
     },
     "metadata": {
      "needs_background": "light",
      "tags": []
     },
     "output_type": "display_data"
    }
   ],
   "source": [
    "plot_train_history(multi_step_history, 'Multi-Step Training and validation loss')"
   ]
  },
  {
   "cell_type": "code",
   "execution_count": 202,
   "metadata": {
    "colab": {
     "base_uri": "https://localhost:8080/",
     "height": 731
    },
    "colab_type": "code",
    "executionInfo": {
     "elapsed": 184468,
     "status": "ok",
     "timestamp": 1590713726039,
     "user": {
      "displayName": "Alex Er",
      "photoUrl": "",
      "userId": "04455077611159472702"
     },
     "user_tz": 240
    },
    "id": "7TTbNENY5xMS",
    "outputId": "9629a179-ab9d-49a0-fa36-6856acd6916d"
   },
   "outputs": [
    {
     "data": {
      "image/png": "[encoded data removed]",
      "text/plain": [
       "<Figure size 864x432 with 1 Axes>"
      ]
     },
     "metadata": {
      "needs_background": "light",
      "tags": []
     },
     "output_type": "display_data"
    },
    {
     "data": {
      "image/png": "[encoded data removed]",
      "text/plain": [
       "<Figure size 864x432 with 1 Axes>"
      ]
     },
     "metadata": {
      "needs_background": "light",
      "tags": []
     },
     "output_type": "display_data"
    }
   ],
   "source": [
    "for x, y in val_data_multi.take(2):\n",
    "  multi_step_plot(x[0], y[0], multi_step_model.predict(x)[0])"
   ]
  },
  {
   "cell_type": "code",
   "execution_count": 0,
   "metadata": {
    "colab": {},
    "colab_type": "code",
    "id": "V965E2Gd509D"
   },
   "outputs": [],
   "source": []
  }
 ],
 "metadata": {
  "colab": {
   "authorship_tag": "ABX9TyMOot9kA7ePXq+eGzEhv9ll",
   "collapsed_sections": [],
   "name": "Project-D.ipynb",
   "provenance": []
  },
  "kernelspec": {
   "display_name": "Python 3",
   "language": "python",
   "name": "python3"
  },
  "language_info": {
   "codemirror_mode": {
    "name": "ipython",
    "version": 3
   },
   "file_extension": ".py",
   "mimetype": "text/x-python",
   "name": "python",
   "nbconvert_exporter": "python",
   "pygments_lexer": "ipython3",
   "version": "3.6.8"
  }
 },
 "nbformat": 4,
 "nbformat_minor": 1
}
