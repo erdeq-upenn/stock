{
 "cells": [
  {
   "cell_type": "code",
   "execution_count": 0,
   "metadata": {
    "colab": {
     "base_uri": "https://localhost:8080/",
     "height": 34
    },
    "colab_type": "code",
    "executionInfo": {
     "elapsed": 466,
     "status": "ok",
     "timestamp": 1590691525829,
     "user": {
      "displayName": "Alex Er",
      "photoUrl": "",
      "userId": "04455077611159472702"
     },
     "user_tz": 240
    },
    "id": "dCrW4x3LmPoC",
    "outputId": "780ad600-9cf3-431d-ffdb-25ce3770b385"
   },
   "outputs": [
    {
     "name": "stdout",
     "output_type": "stream",
     "text": [
      "2012 05 10\n"
     ]
    }
   ],
   "source": [
    "class Date(object):\n",
    "   day = 0\n",
    "   month = 0\n",
    "   year = 0\n",
    "\n",
    "   def __init__(self, year=0, month=0, day=0):\n",
    "       self.day = day\n",
    "       self.month = month\n",
    "       self.year = year\n",
    "\n",
    "   @classmethod\n",
    "   def from_string(cls, date_as_string): # 类方法，我们不用通过实例化类就能访问的方法. 有cls，约定参数，会更改类的结果\n",
    "       year, month, day = date_as_string.split('-')\n",
    "       date = cls(year, month, day)\n",
    "       return date\n",
    "\n",
    "   @staticmethod\n",
    "   def is_date_valid(date_as_string): # 这里只有一个参数，不需要self，也不会更改类的结果\n",
    "       \"\"\"\n",
    "      用来校验日期的格式是否正确\n",
    "       \"\"\"\n",
    "       year, month, day = date_as_string.split('-')\n",
    "       return int(year) <= 3999 and int(month) <= 12 and int(day) <= 31\n",
    "\n",
    "date1 = Date.from_string('2012-05-10')\n",
    "print(date1.year, date1.month, date1.day)\n",
    "is_date = Date.is_date_valid('2012-09-18') # 格式正确 返回True"
   ]
  },
  {
   "cell_type": "code",
   "execution_count": 8,
   "metadata": {
    "colab": {
     "base_uri": "https://localhost:8080/",
     "height": 207
    },
    "colab_type": "code",
    "executionInfo": {
     "elapsed": 2648,
     "status": "ok",
     "timestamp": 1590694980390,
     "user": {
      "displayName": "Alex Er",
      "photoUrl": "",
      "userId": "04455077611159472702"
     },
     "user_tz": 240
    },
    "id": "rN2fMarfmmVJ",
    "outputId": "4bdb3e04-efbe-4e8b-b2bb-3a4dd146edc7"
   },
   "outputs": [
    {
     "name": "stdout",
     "output_type": "stream",
     "text": [
      "北京欢迎你为你开天辟地…………\n",
      "京欢迎你为你开天辟地…………北\n",
      "欢迎你为你开天辟地…………北京\n",
      "迎你为你开天辟地…………北京欢\n",
      "你为你开天辟地…………北京欢迎\n",
      "为你开天辟地…………北京欢迎你\n",
      "你开天辟地…………北京欢迎你为\n",
      "开天辟地…………北京欢迎你为你\n",
      "天辟地…………北京欢迎你为你开\n",
      "辟地…………北京欢迎你为你开天\n",
      "地…………北京欢迎你为你开天辟\n"
     ]
    }
   ],
   "source": [
    "import os\n",
    "import time\n",
    "\n",
    "\n",
    "def main():\n",
    "    content = '北京欢迎你为你开天辟地…………'\n",
    "    count = 0\n",
    "    while count<=10:\n",
    "        # 清理屏幕上的输出\n",
    "        os.system('cls')  # os.system('clear')\n",
    "        print(content)\n",
    "        # 休眠200毫秒\n",
    "        time.sleep(0.2)\n",
    "        # your code \n",
    "        content = content[1:] + content[0]\n",
    "        count+=1\n",
    "        # your code \n",
    "\n",
    "if __name__ == '__main__':\n",
    "    main()"
   ]
  },
  {
   "cell_type": "code",
   "execution_count": 9,
   "metadata": {
    "colab": {
     "base_uri": "https://localhost:8080/",
     "height": 86
    },
    "colab_type": "code",
    "executionInfo": {
     "elapsed": 477,
     "status": "ok",
     "timestamp": 1590695123850,
     "user": {
      "displayName": "Alex Er",
      "photoUrl": "",
      "userId": "04455077611159472702"
     },
     "user_tz": 240
    },
    "id": "hJNIl9aSmto8",
    "outputId": "43ad00f9-b5fe-48a2-ca5f-9986f5a1238e"
   },
   "outputs": [
    {
     "name": "stdout",
     "output_type": "stream",
     "text": [
      "东邪: [♠︎2, ♠︎8, ♠︎9, ♠︎10, ♥︎A, ♥︎3, ♣︎A, ♣︎2, ♣︎K, ♦︎A, ♦︎3, ♦︎8, ♦︎J]\n",
      "西毒: [♠︎A, ♠︎3, ♠︎6, ♠︎Q, ♥︎6, ♥︎8, ♣︎6, ♣︎7, ♣︎8, ♣︎9, ♣︎10, ♦︎2, ♦︎6]\n",
      "南帝: [♠︎4, ♠︎5, ♥︎2, ♥︎5, ♥︎9, ♥︎10, ♥︎Q, ♣︎3, ♣︎4, ♣︎5, ♣︎Q, ♦︎9, ♦︎K]\n",
      "北丐: [♠︎7, ♠︎J, ♠︎K, ♥︎4, ♥︎7, ♥︎J, ♥︎K, ♣︎J, ♦︎4, ♦︎5, ♦︎7, ♦︎10, ♦︎Q]\n"
     ]
    }
   ],
   "source": []
  },
  {
   "cell_type": "code",
   "execution_count": 36,
   "metadata": {
    "colab": {
     "base_uri": "https://localhost:8080/",
     "height": 121
    },
    "colab_type": "code",
    "executionInfo": {
     "elapsed": 385,
     "status": "ok",
     "timestamp": 1590696036900,
     "user": {
      "displayName": "Alex Er",
      "photoUrl": "",
      "userId": "04455077611159472702"
     },
     "user_tz": 240
    },
    "id": "J40tnXgf0Vk-",
    "outputId": "1ff6570e-0289-4936-b645-4e6e899ea779"
   },
   "outputs": [
    {
     "name": "stdout",
     "output_type": "stream",
     "text": [
      "Sort used 0.000011 sec\n",
      "None\n",
      "[56, 4, 3, 2, 2, 1, 1]\n",
      "Sort used 0.000009 sec\n",
      "None\n",
      "[1, 1, 2, 2, 3, 4, 56]\n"
     ]
    }
   ],
   "source": [
    "def select_sort(items, comp=lambda x, y: x < y):\n",
    "    \"\"\"简单选择排序\"\"\"\n",
    "    items = items[:]\n",
    "    for i in range(len(items) - 1):\n",
    "        min_index = i\n",
    "        for j in range(i + 1, len(items)):\n",
    "            if comp(items[j], items[min_index]):\n",
    "                min_index = j\n",
    "        items[i], items[min_index] = items[min_index], items[i]\n",
    "    return items\n",
    "\n",
    "def bubble_sort(items, comp=lambda x, y: x > y):\n",
    "    \"\"\"冒泡排序\"\"\"\n",
    "    items = items[:]\n",
    "    for i in range(len(items) - 1):\n",
    "        swapped = False\n",
    "        for j in range(i, len(items) - 1 - i):\n",
    "            if comp(items[j], items[j + 1]):\n",
    "                items[j], items[j + 1] = items[j + 1], items[j]\n",
    "                swapped = True\n",
    "        if not swapped:\n",
    "            break\n",
    "    return items\n",
    "    \n",
    "def mytimeit(algo):\n",
    "  t1 = time.time()\n",
    "  res = algo(items, comp=lambda x, y: x > y)\n",
    "  t2= time.time()\n",
    "  print(print('Sort used %.6f sec' %(t2-t1)))\n",
    "  print(res)\n",
    "\n",
    "items=[1,3,4,1,56,2,2]\n",
    "mytimeit(select_sort)\n",
    "mytimeit(bubble_sort)"
   ]
  },
  {
   "cell_type": "code",
   "execution_count": 0,
   "metadata": {
    "colab": {},
    "colab_type": "code",
    "id": "D5An53-h097i"
   },
   "outputs": [],
   "source": []
  }
 ],
 "metadata": {
  "colab": {
   "authorship_tag": "ABX9TyN72IrWSoYvFvBK5Qgz6rnT",
   "collapsed_sections": [],
   "name": "HW2.ipynb",
   "provenance": []
  },
  "kernelspec": {
   "display_name": "Python 3",
   "language": "python",
   "name": "python3"
  },
  "language_info": {
   "codemirror_mode": {
    "name": "ipython",
    "version": 3
   },
   "file_extension": ".py",
   "mimetype": "text/x-python",
   "name": "python",
   "nbconvert_exporter": "python",
   "pygments_lexer": "ipython3",
   "version": "3.6.8"
  }
 },
 "nbformat": 4,
 "nbformat_minor": 1
}
