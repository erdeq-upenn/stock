{
 "cells": [
  {
   "cell_type": "code",
   "execution_count": 2,
   "metadata": {
    "colab": {
     "base_uri": "https://localhost:8080/",
     "height": 69
    },
    "colab_type": "code",
    "executionInfo": {
     "elapsed": 6287,
     "status": "ok",
     "timestamp": 1590693542724,
     "user": {
      "displayName": "Alex Er",
      "photoUrl": "",
      "userId": "04455077611159472702"
     },
     "user_tz": 240
    },
    "id": "ph4JbwLGo03u",
    "outputId": "d466dfc5-9055-4853-faee-69a5d6075c0f"
   },
   "outputs": [
    {
     "name": "stdout",
     "output_type": "stream",
     "text": [
      "请输入用户名: aaa\n",
      "请输入口令: bbb\n",
      "身份验证失败!\n"
     ]
    }
   ],
   "source": [
    "# if 语句\n",
    "username = input('请输入用户名: ')\n",
    "password = input('请输入口令: ')\n",
    "# 用户名是admin且密码是123456则身份验证成功否则身份验证失败\n",
    "if username == 'admin' and password == '123456':\n",
    "    print('身份验证成功!')\n",
    "else:\n",
    "    print('身份验证失败!')"
   ]
  },
  {
   "cell_type": "code",
   "execution_count": 3,
   "metadata": {
    "colab": {
     "base_uri": "https://localhost:8080/",
     "height": 52
    },
    "colab_type": "code",
    "executionInfo": {
     "elapsed": 3656,
     "status": "ok",
     "timestamp": 1590693553402,
     "user": {
      "displayName": "Alex Er",
      "photoUrl": "",
      "userId": "04455077611159472702"
     },
     "user_tz": 240
    },
    "id": "y6ZINmwGuIbQ",
    "outputId": "855bad2e-4162-47a0-f107-d0070f444003"
   },
   "outputs": [
    {
     "name": "stdout",
     "output_type": "stream",
     "text": [
      "请输入成绩: 98\n",
      "对应的等级是: A\n"
     ]
    }
   ],
   "source": [
    "score = float(input('请输入成绩: '))\n",
    "if score >= 90:\n",
    "    grade = 'A'\n",
    "elif score >= 80:\n",
    "    grade = 'B'\n",
    "elif score >= 70:\n",
    "    grade = 'C'\n",
    "elif score >= 60:\n",
    "    grade = 'D'\n",
    "else:\n",
    "    grade = 'E'\n",
    "print('对应的等级是:', grade)"
   ]
  },
  {
   "cell_type": "code",
   "execution_count": 4,
   "metadata": {
    "colab": {
     "base_uri": "https://localhost:8080/",
     "height": 52
    },
    "colab_type": "code",
    "executionInfo": {
     "elapsed": 4111,
     "status": "ok",
     "timestamp": 1590693622878,
     "user": {
      "displayName": "Alex Er",
      "photoUrl": "",
      "userId": "04455077611159472702"
     },
     "user_tz": 240
    },
    "id": "lACU_hwduVZs",
    "outputId": "c803c14d-2d74-487d-a658-0477d6b40fea"
   },
   "outputs": [
    {
     "name": "stdout",
     "output_type": "stream",
     "text": [
      "请输入一个正整数: 11\n",
      "11是素数\n"
     ]
    }
   ],
   "source": [
    "# 循环结构\n",
    "\n",
    "# 判断一个数是不是素数\n",
    "\n",
    "from math import sqrt\n",
    "\n",
    "num = int(input('请输入一个正整数: '))\n",
    "end = int(sqrt(num))\n",
    "is_prime = True\n",
    "for x in range(2, end + 1):\n",
    "    if num % x == 0:\n",
    "        is_prime = False\n",
    "        break\n",
    "if is_prime and num != 1:\n",
    "    print('%d是素数' % num)\n",
    "else:\n",
    "    print('%d不是素数' % num)"
   ]
  },
  {
   "cell_type": "code",
   "execution_count": 6,
   "metadata": {
    "colab": {
     "base_uri": "https://localhost:8080/",
     "height": 121
    },
    "colab_type": "code",
    "executionInfo": {
     "elapsed": 2762,
     "status": "ok",
     "timestamp": 1590694026706,
     "user": {
      "displayName": "Alex Er",
      "photoUrl": "",
      "userId": "04455077611159472702"
     },
     "user_tz": 240
    },
    "id": "Y22Ts4fiumQJ",
    "outputId": "bda63f80-7f13-49e6-b0ed-1f16b1643130"
   },
   "outputs": [
    {
     "name": "stdout",
     "output_type": "stream",
     "text": [
      "请输入行数: 5\n",
      "    *\n",
      "   ***\n",
      "  *****\n",
      " *******\n",
      "*********\n"
     ]
    }
   ],
   "source": [
    "'''练习打印如下格式\n",
    "    *\n",
    "   ***\n",
    "  *****\n",
    " *******\n",
    "*********\n",
    "'''\n",
    "row = int(input('请输入行数: '))\n",
    "for i in range(row):\n",
    "    for _ in range(row - i - 1):\n",
    "        print(' ', end='')\n",
    "    for _ in range(2 * i + 1):\n",
    "        print('*', end='')\n",
    "    print()"
   ]
  },
  {
   "cell_type": "code",
   "execution_count": 0,
   "metadata": {
    "colab": {},
    "colab_type": "code",
    "id": "Vitf8eJouykb"
   },
   "outputs": [],
   "source": []
  }
 ],
 "metadata": {
  "colab": {
   "authorship_tag": "ABX9TyM8VtPoryTKfl/I7keiCXlt",
   "collapsed_sections": [],
   "name": "HM1.ipynb",
   "provenance": []
  },
  "kernelspec": {
   "display_name": "Python 3",
   "language": "python",
   "name": "python3"
  },
  "language_info": {
   "codemirror_mode": {
    "name": "ipython",
    "version": 3
   },
   "file_extension": ".py",
   "mimetype": "text/x-python",
   "name": "python",
   "nbconvert_exporter": "python",
   "pygments_lexer": "ipython3",
   "version": "3.6.8"
  }
 },
 "nbformat": 4,
 "nbformat_minor": 1
}
